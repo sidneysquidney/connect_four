{
 "cells": [
  {
   "cell_type": "code",
   "execution_count": 5,
   "metadata": {},
   "outputs": [],
   "source": [
    "import numpy as np\n",
    "\n",
    "from collections import namedtuple"
   ]
  },
  {
   "cell_type": "code",
   "execution_count": 24,
   "metadata": {},
   "outputs": [],
   "source": [
    "Line = namedtuple('Line', ['r', 'c', 'dd', 'du'], defaults = [None] * 4)\n",
    "\n",
    "b = Line()"
   ]
  },
  {
   "cell_type": "code",
   "execution_count": 146,
   "metadata": {},
   "outputs": [],
   "source": [
    "import numpy as np\n",
    "from enum import Enum\n",
    "from collections import namedtuple\n",
    "from typing import Dict, List, Tuple\n",
    "\n",
    "class Piece(Enum):\n",
    "    EMPTY = ' '\n",
    "    RED = 'R'\n",
    "    YELLOW = 'Y'\n",
    "    \n",
    "WinState = namedtuple('WinState', ['is_ended', 'winner'])\n",
    "Point = namedtuple('Point', ['r', 'c'])\n",
    "Lines = namedtuple('Lines', ['r', 'c', 'dd', 'du'])\n",
    "\n",
    "n_c = 7\n",
    "n_r = 6\n",
    "to_win = 4\n",
    "\n",
    "class ListFlatten:\n",
    "    def __init__(self, group: List[list]) -> List[list]:\n",
    "        self.result = []\n",
    "        self.backtrack(group)\n",
    "        \n",
    "    def backtrack(self, group):\n",
    "        if type(group[0]) != list:\n",
    "            self.result.append(group)\n",
    "        else:\n",
    "            for item in group:\n",
    "                self.backtrack(item)\n",
    "\n",
    "class GridRef:\n",
    "    # a Grid Reference class to locate lines from a specific coordinate\n",
    "    def __init__(self):\n",
    "        self.lines_dict = {}\n",
    "        self.all_lines = {}\n",
    "        self.apply_lines_to_lines_dict()\n",
    "        \n",
    "    def apply_lines_to_lines_dict(self):\n",
    "        dct = {l: set() for l in ['r', 'c', 'dd', 'du']}\n",
    "        for r in range(n_r):\n",
    "            for c in range(n_c):   \n",
    "                bottom_right = min(n_r - r - 1, n_c - c - 1)\n",
    "                top_right = min(r, n_c - c - 1)\n",
    "                top_left = min(r,c)\n",
    "                bottom_left = min(n_r - r - 1, c)\n",
    "                row, col = r, c\n",
    "                if to_win > n_r:\n",
    "                    row = None\n",
    "                else:\n",
    "                    dct['r'].add(r)\n",
    "                if to_win > n_c:\n",
    "                    col = None\n",
    "                else:\n",
    "                    dct['c'].add(c)\n",
    "                if top_left + bottom_right  + 1>= to_win:\n",
    "                    diag_down = c - r\n",
    "                    dct['dd'].add(diag_down)\n",
    "                else:\n",
    "                    diag_down = None\n",
    "                if bottom_left + top_right + 1 >= to_win:\n",
    "                    diag_up = r + c - n_r + 1\n",
    "                    dct['du'].add(diag_up)\n",
    "                else:\n",
    "                    diag_up = None\n",
    "                self.lines_dict[(r, c)] = Lines(row, col, diag_down, diag_up)\n",
    "        self.all_lines = {key: list(dct[key]) for key in dct.keys()}\n",
    "        \n",
    "    def get_lines_from_position(self, r: int, c: int, grid: np.ndarray) -> List[list]:\n",
    "    #   gets the lines from coordinates[x,y]\n",
    "        lines_from_pos = self.lines_dict[(r,c)]\n",
    "        lines = []\n",
    "        if lines_from_pos.r != None:\n",
    "            lines.append(list(grid[lines_from_pos.r,:]))\n",
    "        if lines_from_pos.c != None:\n",
    "            lines.append(list(grid[:,lines_from_pos.c]))\n",
    "        if lines_from_pos.dd != None:\n",
    "            lines.append(list(np.diag(grid, lines_from_pos.dd)))\n",
    "        if lines_from_pos.du != None:\n",
    "            lines.append(list(np.diag(np.flipud(grid), lines_from_pos.du)))\n",
    "        return lines\n",
    "        \n",
    "    def get_lines(self, grid: np.ndarray) -> List[list]:\n",
    "        return ListFlatten([[list(grid[r,:]) for r in self.all_lines['r']],\n",
    "                [list(grid[:,c]) for c in self.all_lines['c']],\n",
    "                [list(np.diag(grid, dd)) for dd in self.all_lines['dd']],\n",
    "                [list(np.diag(np.flipud(grid), du)) for du in self.all_lines['du']]]).result\n",
    "\n",
    "grid_reference = GridRef()"
   ]
  },
  {
   "cell_type": "code",
   "execution_count": 151,
   "metadata": {},
   "outputs": [
    {
     "name": "stdout",
     "output_type": "stream",
     "text": [
      "[[ 0  1  2  3  4  5  6]\n",
      " [ 7  8  9 10 11 12 13]\n",
      " [14 15 16 17 18 19 20]\n",
      " [21 22 23 24 25 26 27]\n",
      " [28 29 30 31 32 33 34]\n",
      " [35 36 37 38 39 40 41]]\n"
     ]
    },
    {
     "data": {
      "text/plain": [
       "[[28, 29, 30, 31, 32, 33, 34], [0, 7, 14, 21, 28, 35], [28, 22, 16, 10, 4]]"
      ]
     },
     "execution_count": 151,
     "metadata": {},
     "output_type": "execute_result"
    }
   ],
   "source": [
    "# print(grid_reference.)\n",
    "# for x in range(- n_r + 1, n_c):\n",
    "#     print(x, np.diag(grid_reference.number_grid, x))\n",
    "    \n",
    "# for x in range(- n_r + 1, n_c):   \n",
    "#     print(x, np.diag(np.flipud(grid_reference.number_grid), x))\n",
    "\n",
    "\n",
    "# grid_reference.lines_dict\n",
    "\n",
    "g = np.arange(42).reshape(6, 7)\n",
    "print(g)\n",
    "# ListFlatten([[[1,2,3]]]).result\n",
    "\n",
    "# grid_reference.lines_dict[(0,0)]\n",
    "grid_reference.get_lines_from_position(4,0, g)\n",
    "# grid_reference.get_lines(g)\n"
   ]
  },
  {
   "cell_type": "code",
   "execution_count": null,
   "metadata": {},
   "outputs": [],
   "source": []
  }
 ],
 "metadata": {
  "interpreter": {
   "hash": "0e8f8d5f7bb38976da61cc69c4345a0f99d2e87ba7f70b5485b400ccfd45ecf3"
  },
  "kernelspec": {
   "display_name": "Python 3.8.5 64-bit ('base': conda)",
   "language": "python",
   "name": "python3"
  },
  "language_info": {
   "codemirror_mode": {
    "name": "ipython",
    "version": 3
   },
   "file_extension": ".py",
   "mimetype": "text/x-python",
   "name": "python",
   "nbconvert_exporter": "python",
   "pygments_lexer": "ipython3",
   "version": "3.8.5"
  },
  "orig_nbformat": 4
 },
 "nbformat": 4,
 "nbformat_minor": 2
}
