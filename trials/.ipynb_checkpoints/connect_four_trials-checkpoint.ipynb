{
 "cells": [
  {
   "cell_type": "markdown",
   "metadata": {},
   "source": [
    "- more decided on looking at larger picture and finding places where you can win with 2 consecutive moves - how to create score/algorithm to make that\n",
    "- does score1 actually make a difference, maybe just score2 with no passed on parameters\n",
    "- make syntax of everyting clean "
   ]
  },
  {
   "cell_type": "code",
   "execution_count": 7,
   "metadata": {},
   "outputs": [],
   "source": [
    "import numpy as np\n",
    "import random"
   ]
  },
  {
   "cell_type": "code",
   "execution_count": 8,
   "metadata": {},
   "outputs": [],
   "source": [
    "def get_lines(grid):\n",
    "#     returns a list of lines (that have a length greater than 4) from the grid - rows, columns, both diagonals\n",
    "    return [[list(x) for x in grid], \n",
    "            [list(grid[:,c]) for c in range(7)], \n",
    "            [list(np.diag(grid, x)) for x in range(-2, 4)], \n",
    "            [list(np.diag(np.fliplr(grid), x)) for x in range(-2, 4)]]"
   ]
  },
  {
   "cell_type": "code",
   "execution_count": 9,
   "metadata": {},
   "outputs": [],
   "source": [
    "# a Grid Reference class to locate lines from a specific coordinate\n",
    "\n",
    "class GridRef:\n",
    "    def __init__(self):\n",
    "        self.number_grid = np.arange(42).reshape(6,7)\n",
    "        self.lines_dict = {n: [None] * 4 for n in range(42)}\n",
    "        self.apply_lines_to_lines_dict()\n",
    "        \n",
    "    def apply_lines_to_lines_dict(self):\n",
    "        groups = get_lines(self.number_grid)\n",
    "        for i in range(42):\n",
    "            for r in range(7):\n",
    "                for ind in range(4):\n",
    "                    if r == 6:\n",
    "                        if i in groups[1][r]:\n",
    "                            self.lines_dict[i][1] = r\n",
    "                    elif ind < 2:\n",
    "                        if i in groups[ind][r]:\n",
    "                            self.lines_dict[i][ind] = r\n",
    "                    else:\n",
    "                        if i in groups[ind][r]:\n",
    "                            self.lines_dict[i][ind] = r - 2\n",
    "                            \n",
    "grid_reference = GridRef()\n",
    "# grid_reference.get_lines_from_position(3,2)"
   ]
  },
  {
   "cell_type": "code",
   "execution_count": 31,
   "metadata": {},
   "outputs": [],
   "source": [
    "class Grid:\n",
    "    def __init__(self): \n",
    "        self.player_1 = 'X'\n",
    "        self.player_2 = 'O'\n",
    "        self.current_player = self.player_1\n",
    "        self.opposition = self.player_2\n",
    "        self.grid = np.full((6,7), None)\n",
    "        self.space = {n: 5 for n in range(7)}\n",
    "        self.children = {}\n",
    "        self.level = 0\n",
    "        self.score = 0\n",
    "        self.winner = False\n",
    "\n",
    "    def make_move(self, player, column):\n",
    "#     inputs the player counter into the next available space in the column, then changes the current player\n",
    "        row = self.space[column]\n",
    "        self.grid[row, column] = player\n",
    "        self.space[column] -= 1\n",
    "        self.current_player, self.opposition = self.opposition, self.current_player\n",
    "        \n",
    "    def winner_search_original(self, lines):\n",
    "#     searches the lines parameter for a winner (four in a row of anything except None)\n",
    "        for line in lines:\n",
    "            count = 1\n",
    "            for i in range(1, len(line)):\n",
    "                if line[i] == line[i - 1]:\n",
    "                    count += 1\n",
    "                else:\n",
    "                    count = 1\n",
    "                if count == 4:\n",
    "                    if not line[i]:\n",
    "                        continue\n",
    "                    return line[i]\n",
    "        return False\n",
    "    \n",
    "    def winner_search(self, lines):\n",
    "#         new winner search with numpy technique. on runnig seems slower than original\n",
    "        for line in lines:\n",
    "            sub_lines = [line[x - 4: x] for x in range(4, len(line) + 1)]\n",
    "            for sub in sub_lines:\n",
    "                if sum(sub == self.player_1) == 4:\n",
    "                    return self.player_1\n",
    "                elif sum(sub == self.player_2) == 4:\n",
    "                    return self.player_2\n",
    "        return False\n",
    "\n",
    "    def get_winner(self):\n",
    "#     searches all lines in a grid for the winner\n",
    "        return self.winner_search(get_lines(self.grid)[::-1])\n",
    "\n",
    "\n",
    "    def get_winner2(self, row, column):\n",
    "#     searches just the lines that intersect at coordinates grid[row,column]\n",
    "        return self.winner_search(self.get_lines_from_position(row, column))\n",
    "    \n",
    "\n",
    "    def score_search(self, lines):\n",
    "#     score calculated by opportunities to make four in a row of one player minus opportunities for the other player\n",
    "        scores = [0, 0]\n",
    "        for lsts in lines:\n",
    "            for line in lsts:\n",
    "                sub_lines = [line[x - 4: x] for x in range(4, len(line) + 1)]\n",
    "                for i in range(2):\n",
    "                    for sub in sub_lines:\n",
    "                        if not (([self.player_1, self.player_2][i - 1] in sub) or (set(sub) == {None})):\n",
    "                            scores[i] += 1\n",
    "                            break\n",
    "        return scores[0] - scores[1]\n",
    "\n",
    "    def get_score(self):\n",
    "        return self.score_search(get_lines(self.grid))\n",
    "    \n",
    "    def get_score2(self, row, column):\n",
    "        return self.score_search([self.get_lines_from_position(row, column)])\n",
    "    \n",
    "    def make_children(self, depth_limit):\n",
    "#         the children are the possible moves from the current grid. The depth is how many times this iterates.\n",
    "        if (self.level == depth_limit) or self.winner:\n",
    "            return\n",
    "        for col in range(7):\n",
    "            if self.space[col] >= 0:\n",
    "                self.children[col] = GridChild(self.grid.copy(), \n",
    "                                               self.space.copy(), \n",
    "                                               self, \n",
    "                                               self.level, \n",
    "                                               self.current_player, \n",
    "                                               self.opposition, \n",
    "                                               depth_limit, \n",
    "                                               self.space[col], \n",
    "                                               col, \n",
    "                                               self.score)\n",
    "                \n",
    "    def get_children_from_level(self, lev):\n",
    "        children = [self]\n",
    "        next_children = []\n",
    "        while children[0].level < lev:\n",
    "            for child in children:\n",
    "                next_children += child.children.values()\n",
    "            children, next_children = next_children, []\n",
    "        return children\n",
    "\n",
    "    def get_lines_from_position(self, x, y):\n",
    "#         gets the lines from coordinates[x,y]\n",
    "        l1, l2, l3, l4 = grid_reference.lines_dict[grid_reference.number_grid[x,y]]\n",
    "        lines = []\n",
    "        lines.append(self.grid[l1,:])\n",
    "        if isinstance(l2, int):\n",
    "            lines.append(self.grid[:, l2])\n",
    "        if isinstance(l3, int):\n",
    "            lines.append(np.diag(self.grid, l3))\n",
    "        if isinstance(l4, int):\n",
    "            lines.append(np.diag(np.fliplr(self.grid), l4))\n",
    "        return lines\n",
    "                        \n",
    "    def print_grid(self):\n",
    "        new_grid = self.grid.copy()\n",
    "        new_grid[new_grid == None] = '_'\n",
    "        print()\n",
    "        print(new_grid)\n",
    "\n",
    "        \n",
    "        "
   ]
  },
  {
   "cell_type": "code",
   "execution_count": 32,
   "metadata": {},
   "outputs": [],
   "source": [
    "g6 = Grid()\n",
    "\n",
    "# g6.make_children(6)\n",
    "\n",
    "# for x in g6.get_children_from_level(4):\n",
    "#     print(x)"
   ]
  },
  {
   "cell_type": "code",
   "execution_count": 33,
   "metadata": {},
   "outputs": [],
   "source": [
    "class GridChild(Grid):\n",
    "    def __init__(self, grid, space, parent, level, current_player, opposition, depth_limit, row, col, score):\n",
    "        self.player_1 = 'X'\n",
    "        self.player_2 = 'O'\n",
    "        self.current_player = current_player\n",
    "        self.opposition = opposition\n",
    "        self.grid = grid\n",
    "        self.space = space\n",
    "        self.parent = parent\n",
    "        self.children = {}\n",
    "        self.level = level + 1\n",
    "        # self.carry = 0\n",
    "        self.last_move = [row, col]\n",
    "        self.make_move(self.current_player, col)\n",
    "        self.winner = self.get_winner2(row, col)\n",
    "        self.score = self.get_score2(row, col)\n",
    "        # self.score2 = score + self.get_score2(row, col) + self.carry\n",
    "        self.make_children(depth_limit)\n",
    "        \n",
    "    def make_move(self, player, column):\n",
    "        # self.carry = - self.get_score2(self.space[column], column)\n",
    "        super().make_move(player, column)\n",
    "        \n",
    "# score seems to be faster than score2, but from make_children the score function definitely takes up the most time\n"
   ]
  },
  {
   "cell_type": "code",
   "execution_count": 34,
   "metadata": {},
   "outputs": [],
   "source": [
    "class TestGrid(Grid):\n",
    "    \n",
    "    def make_random_grid(self):\n",
    "        pool = ['X', 'O', None]\n",
    "        grid = []\n",
    "        for x in range(6):\n",
    "            grid.append(random.choices(pool, k = 7))\n",
    "        return np.array(grid)\n",
    "    \n",
    "    def test_play(self):\n",
    "        self.grid = self.make_random_grid()\n",
    "        print(self.grid)\n",
    "        return self.get_winner()\n",
    "    \n",
    "    def test_random_till_winner(self):\n",
    "        order = []\n",
    "        while True:\n",
    "            players = ['X', 'O']\n",
    "            for p in players:\n",
    "                while True:\n",
    "                    col = random.randint(0,6)\n",
    "                    if self.space[col] >= 0:\n",
    "                        break\n",
    "                row = self.space[col]\n",
    "                self.make_move(p, col)\n",
    "                winner = self.get_winner2(row, col)\n",
    "                order.append(p + str(col))\n",
    "                if winner:\n",
    "                    self.print_grid(self.grid)\n",
    "                    print()\n",
    "                    return winner, self.get_score()\n",
    "    \n",
    "    def two_player_game(self):\n",
    "        print('playing game')\n",
    "        while True:\n",
    "            computer_moved = False\n",
    "            if set(self.space.values()) == {-1}:\n",
    "                print('No Winner')\n",
    "                return\n",
    "            while True:\n",
    "                turn = input('input 0 - 6 for the column')\n",
    "                if turn.isdigit() and 0 <= int(turn) < 7 and self.space[int(turn)] >= 0:\n",
    "                    break\n",
    "            row = self.space[int(turn)]\n",
    "            self.make_move(self.player_1, int(turn))\n",
    "            self.print_grid()\n",
    "            if self.get_winner2(row, int(turn)):\n",
    "                print('You have won')\n",
    "                return\n",
    "            \n",
    "#             computer turn\n",
    "\n",
    "            self.make_children(4)\n",
    "            for child in self.get_children_from_level(1):\n",
    "                if child.winner:\n",
    "                    self.make_move(self.player_2, child.last_move[1])\n",
    "                    self.print_grid()\n",
    "                    print('computer wins')\n",
    "                    return\n",
    "            parents = {}\n",
    "            for grandchild in self.get_children_from_level(2):\n",
    "                if grandchild.winner:\n",
    "                    parents[grandchild.parent.last_move[1]] = grandchild.parent\n",
    "            if parents:\n",
    "                moves = {0,1,2,3,4,5,6}.difference(set(parents.keys()))\n",
    "                moves = list(filter(lambda x: self.space[x] >= 0, list(moves)))\n",
    "                if moves:\n",
    "                    new_moves = [self.children[x] for x in moves]\n",
    "                    new_moves = sorted(new_moves, key = lambda x: x.score)\n",
    "#                     print([m.last_move[1] for m in new_moves])\n",
    "                    move = new_moves[0].last_move[1]\n",
    "                    self.make_move(self.player_2, move)\n",
    "                    computer_moved = True\n",
    "            level_3_grandparents = {n: set() for n in range(7)}\n",
    "            for level_3 in self.get_children_from_level(3):\n",
    "                if level_3.winner:\n",
    "                    level_3_grandparents[level_3.parent.parent.last_move[1]].add(level_3.parent.last_move[1])\n",
    "            available_len = len(list(filter(lambda x:self.space[x] >= 0, [0,1,2,3,4,5,6])))\n",
    "            for key in level_3_grandparents:\n",
    "                if len(level_3_grandparents[key]) == available_len:\n",
    "                    self.make_move(self.player_2, key)\n",
    "                    computer_moved = True\n",
    "                    print('lev 3 moved', key)\n",
    "            if not computer_moved:\n",
    "                level_4_grandparents = {}\n",
    "                for level_1 in self.children.values():\n",
    "                    m1 = level_1.last_move[1]\n",
    "                    available_len = len(list(filter(lambda x:self.space[x] >= 0, [0,1,2,3,4,5,6])))\n",
    "                    l1g = {n: set() for n in range(7)}\n",
    "                    for level_2 in level_1.children.values():\n",
    "                        for level_3 in level_2.children.values():\n",
    "                            for level_4 in level_3.children.values():\n",
    "                                if level_4.winner:\n",
    "                                    l1g[level_4.parent.parent.last_move[1]].add(level_4.parent.last_move[1])\n",
    "                    level_4_grandparents[m1] = any([len(l1g[key]) == available_len for key in l1g.keys()])\n",
    "                print(level_4_grandparents)\n",
    "                if any(level_4_grandparents.values()):\n",
    "                    moves = list(filter(lambda x: not level_4_grandparents[x], level_4_grandparents.keys()))\n",
    "                    if moves:\n",
    "                        print('bad news in a few turns', moves)\n",
    "                        new_moves = sorted([self.children[c] for c in moves], key = lambda x: x.score)\n",
    "                        self.make_move(self.player_2, new_moves[0].last_move[1])\n",
    "                        computer_moved = True\n",
    "\n",
    "            if not computer_moved:\n",
    "                moves = list(filter(lambda x:self.space[x] >= 0, [0,1,2,3,4,5,6]))\n",
    "                new_moves = [self.children[x] for x in moves]\n",
    "                new_moves = sorted(new_moves, key = lambda x: x.score)\n",
    "                print([m.last_move[1] for m in new_moves])\n",
    "                move = random.choice(new_moves[:3]).last_move[1]\n",
    "                self.make_move(self.player_2, move)\n",
    "                computer_moved = True\n",
    "            if computer_moved:\n",
    "                self.print_grid()\n",
    "                self.children = {}   \n",
    "        return "
   ]
  },
  {
   "cell_type": "code",
   "execution_count": 35,
   "metadata": {},
   "outputs": [
    {
     "name": "stdout",
     "output_type": "stream",
     "text": [
      "sid\n"
     ]
    }
   ],
   "source": [
    "print('sid')"
   ]
  },
  {
   "cell_type": "code",
   "execution_count": 36,
   "metadata": {},
   "outputs": [
    {
     "name": "stdout",
     "output_type": "stream",
     "text": [
      "playing game\n",
      "input 0 - 6 for the column 3\n",
      "\n",
      "[['_' '_' '_' '_' '_' '_' '_']\n",
      " ['_' '_' '_' '_' '_' '_' '_']\n",
      " ['_' '_' '_' '_' '_' '_' '_']\n",
      " ['_' '_' '_' '_' '_' '_' '_']\n",
      " ['_' '_' '_' '_' '_' '_' '_']\n",
      " ['_' '_' '_' 'X' '_' '_' '_']]\n",
      "{0: False, 1: False, 2: False, 3: False, 4: False, 5: False, 6: False}\n",
      "[3, 0, 1, 2, 4, 5, 6]\n",
      "\n",
      "[['_' '_' '_' '_' '_' '_' '_']\n",
      " ['_' '_' '_' '_' '_' '_' '_']\n",
      " ['_' '_' '_' '_' '_' '_' '_']\n",
      " ['_' '_' '_' '_' '_' '_' '_']\n",
      " ['_' '_' '_' '_' '_' '_' '_']\n",
      " ['O' '_' '_' 'X' '_' '_' '_']]\n",
      "input 0 - 6 for the column 2\n",
      "\n",
      "[['_' '_' '_' '_' '_' '_' '_']\n",
      " ['_' '_' '_' '_' '_' '_' '_']\n",
      " ['_' '_' '_' '_' '_' '_' '_']\n",
      " ['_' '_' '_' '_' '_' '_' '_']\n",
      " ['_' '_' '_' '_' '_' '_' '_']\n",
      " ['O' '_' 'X' 'X' '_' '_' '_']]\n",
      "{0: True, 1: False, 2: True, 3: True, 4: False, 5: False, 6: True}\n",
      "bad news in a few turns [1, 4, 5]\n",
      "\n",
      "[['_' '_' '_' '_' '_' '_' '_']\n",
      " ['_' '_' '_' '_' '_' '_' '_']\n",
      " ['_' '_' '_' '_' '_' '_' '_']\n",
      " ['_' '_' '_' '_' '_' '_' '_']\n",
      " ['_' '_' '_' '_' '_' '_' '_']\n",
      " ['O' '_' 'X' 'X' 'O' '_' '_']]\n"
     ]
    },
    {
     "ename": "KeyboardInterrupt",
     "evalue": "Interrupted by user",
     "output_type": "error",
     "traceback": [
      "\u001b[0;31m---------------------------------------------------------------------------\u001b[0m",
      "\u001b[0;31mKeyboardInterrupt\u001b[0m                         Traceback (most recent call last)",
      "\u001b[0;32m<ipython-input-36-d86375cfa153>\u001b[0m in \u001b[0;36m<module>\u001b[0;34m\u001b[0m\n\u001b[1;32m      1\u001b[0m \u001b[0mg1\u001b[0m \u001b[0;34m=\u001b[0m \u001b[0mTestGrid\u001b[0m\u001b[0;34m(\u001b[0m\u001b[0;34m)\u001b[0m\u001b[0;34m\u001b[0m\u001b[0;34m\u001b[0m\u001b[0m\n\u001b[0;32m----> 2\u001b[0;31m \u001b[0mg1\u001b[0m\u001b[0;34m.\u001b[0m\u001b[0mtwo_player_game\u001b[0m\u001b[0;34m(\u001b[0m\u001b[0;34m)\u001b[0m\u001b[0;34m\u001b[0m\u001b[0;34m\u001b[0m\u001b[0m\n\u001b[0m",
      "\u001b[0;32m<ipython-input-34-56359d8b1962>\u001b[0m in \u001b[0;36mtwo_player_game\u001b[0;34m(self)\u001b[0m\n\u001b[1;32m     39\u001b[0m                 \u001b[0;32mreturn\u001b[0m\u001b[0;34m\u001b[0m\u001b[0;34m\u001b[0m\u001b[0m\n\u001b[1;32m     40\u001b[0m             \u001b[0;32mwhile\u001b[0m \u001b[0;32mTrue\u001b[0m\u001b[0;34m:\u001b[0m\u001b[0;34m\u001b[0m\u001b[0;34m\u001b[0m\u001b[0m\n\u001b[0;32m---> 41\u001b[0;31m                 \u001b[0mturn\u001b[0m \u001b[0;34m=\u001b[0m \u001b[0minput\u001b[0m\u001b[0;34m(\u001b[0m\u001b[0;34m'input 0 - 6 for the column'\u001b[0m\u001b[0;34m)\u001b[0m\u001b[0;34m\u001b[0m\u001b[0;34m\u001b[0m\u001b[0m\n\u001b[0m\u001b[1;32m     42\u001b[0m                 \u001b[0;32mif\u001b[0m \u001b[0mturn\u001b[0m\u001b[0;34m.\u001b[0m\u001b[0misdigit\u001b[0m\u001b[0;34m(\u001b[0m\u001b[0;34m)\u001b[0m \u001b[0;32mand\u001b[0m \u001b[0;36m0\u001b[0m \u001b[0;34m<=\u001b[0m \u001b[0mint\u001b[0m\u001b[0;34m(\u001b[0m\u001b[0mturn\u001b[0m\u001b[0;34m)\u001b[0m \u001b[0;34m<\u001b[0m \u001b[0;36m7\u001b[0m \u001b[0;32mand\u001b[0m \u001b[0mself\u001b[0m\u001b[0;34m.\u001b[0m\u001b[0mspace\u001b[0m\u001b[0;34m[\u001b[0m\u001b[0mint\u001b[0m\u001b[0;34m(\u001b[0m\u001b[0mturn\u001b[0m\u001b[0;34m)\u001b[0m\u001b[0;34m]\u001b[0m \u001b[0;34m>=\u001b[0m \u001b[0;36m0\u001b[0m\u001b[0;34m:\u001b[0m\u001b[0;34m\u001b[0m\u001b[0;34m\u001b[0m\u001b[0m\n\u001b[1;32m     43\u001b[0m                     \u001b[0;32mbreak\u001b[0m\u001b[0;34m\u001b[0m\u001b[0;34m\u001b[0m\u001b[0m\n",
      "\u001b[0;32m~/opt/anaconda3/lib/python3.8/site-packages/ipykernel/kernelbase.py\u001b[0m in \u001b[0;36mraw_input\u001b[0;34m(self, prompt)\u001b[0m\n\u001b[1;32m    858\u001b[0m                 \u001b[0;34m\"raw_input was called, but this frontend does not support input requests.\"\u001b[0m\u001b[0;34m\u001b[0m\u001b[0;34m\u001b[0m\u001b[0m\n\u001b[1;32m    859\u001b[0m             )\n\u001b[0;32m--> 860\u001b[0;31m         return self._input_request(str(prompt),\n\u001b[0m\u001b[1;32m    861\u001b[0m             \u001b[0mself\u001b[0m\u001b[0;34m.\u001b[0m\u001b[0m_parent_ident\u001b[0m\u001b[0;34m,\u001b[0m\u001b[0;34m\u001b[0m\u001b[0;34m\u001b[0m\u001b[0m\n\u001b[1;32m    862\u001b[0m             \u001b[0mself\u001b[0m\u001b[0;34m.\u001b[0m\u001b[0m_parent_header\u001b[0m\u001b[0;34m,\u001b[0m\u001b[0;34m\u001b[0m\u001b[0;34m\u001b[0m\u001b[0m\n",
      "\u001b[0;32m~/opt/anaconda3/lib/python3.8/site-packages/ipykernel/kernelbase.py\u001b[0m in \u001b[0;36m_input_request\u001b[0;34m(self, prompt, ident, parent, password)\u001b[0m\n\u001b[1;32m    902\u001b[0m             \u001b[0;32mexcept\u001b[0m \u001b[0mKeyboardInterrupt\u001b[0m\u001b[0;34m:\u001b[0m\u001b[0;34m\u001b[0m\u001b[0;34m\u001b[0m\u001b[0m\n\u001b[1;32m    903\u001b[0m                 \u001b[0;31m# re-raise KeyboardInterrupt, to truncate traceback\u001b[0m\u001b[0;34m\u001b[0m\u001b[0;34m\u001b[0m\u001b[0;34m\u001b[0m\u001b[0m\n\u001b[0;32m--> 904\u001b[0;31m                 \u001b[0;32mraise\u001b[0m \u001b[0mKeyboardInterrupt\u001b[0m\u001b[0;34m(\u001b[0m\u001b[0;34m\"Interrupted by user\"\u001b[0m\u001b[0;34m)\u001b[0m \u001b[0;32mfrom\u001b[0m \u001b[0;32mNone\u001b[0m\u001b[0;34m\u001b[0m\u001b[0;34m\u001b[0m\u001b[0m\n\u001b[0m\u001b[1;32m    905\u001b[0m             \u001b[0;32mexcept\u001b[0m \u001b[0mException\u001b[0m \u001b[0;32mas\u001b[0m \u001b[0me\u001b[0m\u001b[0;34m:\u001b[0m\u001b[0;34m\u001b[0m\u001b[0;34m\u001b[0m\u001b[0m\n\u001b[1;32m    906\u001b[0m                 \u001b[0mself\u001b[0m\u001b[0;34m.\u001b[0m\u001b[0mlog\u001b[0m\u001b[0;34m.\u001b[0m\u001b[0mwarning\u001b[0m\u001b[0;34m(\u001b[0m\u001b[0;34m\"Invalid Message:\"\u001b[0m\u001b[0;34m,\u001b[0m \u001b[0mexc_info\u001b[0m\u001b[0;34m=\u001b[0m\u001b[0;32mTrue\u001b[0m\u001b[0;34m)\u001b[0m\u001b[0;34m\u001b[0m\u001b[0;34m\u001b[0m\u001b[0m\n",
      "\u001b[0;31mKeyboardInterrupt\u001b[0m: Interrupted by user"
     ]
    }
   ],
   "source": [
    "g1 = TestGrid()\n",
    "g1.two_player_game()\n"
   ]
  },
  {
   "cell_type": "code",
   "execution_count": null,
   "metadata": {},
   "outputs": [],
   "source": [
    "g1 = TestGrid()\n",
    "g1.make_children(3)"
   ]
  },
  {
   "cell_type": "code",
   "execution_count": null,
   "metadata": {},
   "outputs": [],
   "source": [
    "g1 = TestGrid()\n",
    "g1.make_children(4)"
   ]
  },
  {
   "cell_type": "code",
   "execution_count": null,
   "metadata": {},
   "outputs": [],
   "source": [
    "g1 = TestGrid()\n",
    "g1.make_children(5)"
   ]
  },
  {
   "cell_type": "code",
   "execution_count": null,
   "metadata": {},
   "outputs": [],
   "source": [
    "g1 = TestGrid()\n",
    "g1.make_children(6)"
   ]
  },
  {
   "cell_type": "code",
   "execution_count": null,
   "metadata": {},
   "outputs": [],
   "source": [
    "g1 = TestGrid()\n",
    "g1.make_children(7)"
   ]
  },
  {
   "cell_type": "code",
   "execution_count": null,
   "metadata": {},
   "outputs": [],
   "source": [
    "g1 = TestGrid()\n",
    "g1.make_children(8)"
   ]
  },
  {
   "cell_type": "code",
   "execution_count": null,
   "metadata": {},
   "outputs": [],
   "source": [
    "g1 = TestGrid()\n",
    "g1.make_children(9)"
   ]
  },
  {
   "cell_type": "code",
   "execution_count": null,
   "metadata": {},
   "outputs": [],
   "source": [
    "g1 = TestGrid()\n",
    "g1.make_children(10)"
   ]
  },
  {
   "cell_type": "code",
   "execution_count": null,
   "metadata": {},
   "outputs": [],
   "source": [
    "g1 = TestGrid()\n",
    "g1.make_children(11)"
   ]
  },
  {
   "cell_type": "code",
   "execution_count": null,
   "metadata": {},
   "outputs": [],
   "source": []
  },
  {
   "cell_type": "code",
   "execution_count": null,
   "metadata": {},
   "outputs": [],
   "source": [
    "for child in g1.children.values():\n",
    "    for x in child.children.values():\n",
    "        for y in x.children.values():\n",
    "            for z in y.children.values():\n",
    "                for d in z.children.values():\n",
    "                    if not d.score == d.score2:\n",
    "                        print('wrong')\n",
    "                        \n",
    "print('finished')\n",
    "    \n",
    "# both 15.9, 16.1\n",
    "# score2 10.2\n",
    "# score1 9.1\n",
    "# checkpoint wednesday evening score2 doesn't match up with score1. why?"
   ]
  },
  {
   "cell_type": "code",
   "execution_count": null,
   "metadata": {},
   "outputs": [],
   "source": [
    "x = random.randint(0,5)\n",
    "y = random.randint(0,6)\n",
    "print(x,y)\n",
    "g1.get_winner2(x, y)\n",
    "\n",
    "\n",
    "# ['X', None, None, None, None, 'O', 'X'] X - only x, should be 0 too\n",
    "# get all lines, for x, for o branch, sub each line into groups of 4, if 4 has set <= 2 including "
   ]
  },
  {
   "cell_type": "code",
   "execution_count": null,
   "metadata": {},
   "outputs": [],
   "source": [
    "g1.make_move('o', 3)\n",
    "g1.grid"
   ]
  },
  {
   "cell_type": "code",
   "execution_count": null,
   "metadata": {},
   "outputs": [],
   "source": [
    "g1.make_move('x', 3)\n",
    "# g1.get_next_available_index(3)"
   ]
  },
  {
   "cell_type": "code",
   "execution_count": null,
   "metadata": {},
   "outputs": [],
   "source": [
    "g1.grid\n",
    "g1.make_move('o', 3)"
   ]
  },
  {
   "cell_type": "code",
   "execution_count": null,
   "metadata": {},
   "outputs": [],
   "source": [
    "g1.grid"
   ]
  },
  {
   "cell_type": "code",
   "execution_count": null,
   "metadata": {},
   "outputs": [],
   "source": [
    "g2 = Grid()"
   ]
  },
  {
   "cell_type": "code",
   "execution_count": null,
   "metadata": {},
   "outputs": [],
   "source": [
    "g2.make_move('X', 3)"
   ]
  },
  {
   "cell_type": "code",
   "execution_count": null,
   "metadata": {},
   "outputs": [],
   "source": [
    "score = g2.get_score()"
   ]
  },
  {
   "cell_type": "code",
   "execution_count": null,
   "metadata": {},
   "outputs": [],
   "source": [
    "carry = - g2.get_score2(4,3)"
   ]
  },
  {
   "cell_type": "code",
   "execution_count": null,
   "metadata": {},
   "outputs": [],
   "source": [
    "carry"
   ]
  },
  {
   "cell_type": "code",
   "execution_count": null,
   "metadata": {},
   "outputs": [],
   "source": [
    "g2.make_move('O',3)"
   ]
  },
  {
   "cell_type": "code",
   "execution_count": null,
   "metadata": {},
   "outputs": [],
   "source": [
    "score2 = g2.get_score2(4,3) + carry + score"
   ]
  },
  {
   "cell_type": "code",
   "execution_count": null,
   "metadata": {},
   "outputs": [],
   "source": [
    "score2"
   ]
  },
  {
   "cell_type": "code",
   "execution_count": null,
   "metadata": {},
   "outputs": [],
   "source": [
    "g2.grid"
   ]
  },
  {
   "cell_type": "code",
   "execution_count": null,
   "metadata": {},
   "outputs": [],
   "source": [
    "None in a and len(a) == 2"
   ]
  },
  {
   "cell_type": "code",
   "execution_count": null,
   "metadata": {},
   "outputs": [],
   "source": [
    "x = np.array([[None, None, None, None, None, None, None],\n",
    "       [None, None, None, None, None, None, None],\n",
    "       [None, None, None, None, None, None, None],\n",
    "       [None, None, None, 'o', None, None, None],\n",
    "       [None, None, None, 'x', None, None, None],\n",
    "       [None, None, None, 'o', None, None, None]], dtype=object)"
   ]
  },
  {
   "cell_type": "code",
   "execution_count": null,
   "metadata": {},
   "outputs": [],
   "source": [
    "y = np.arange(16).reshape(4,4)"
   ]
  },
  {
   "cell_type": "code",
   "execution_count": null,
   "metadata": {},
   "outputs": [],
   "source": [
    "y[y == 2] = 10"
   ]
  },
  {
   "cell_type": "code",
   "execution_count": null,
   "metadata": {},
   "outputs": [],
   "source": [
    "\n",
    "x[x== None] = '_'"
   ]
  },
  {
   "cell_type": "code",
   "execution_count": null,
   "metadata": {},
   "outputs": [],
   "source": [
    "x"
   ]
  },
  {
   "cell_type": "code",
   "execution_count": null,
   "metadata": {},
   "outputs": [],
   "source": [
    "\n",
    "line = [1,2,3,4]\n",
    "sub_lines = [line[x - 4: x] for x in range(4, len(line) + 1)]\n",
    "print(sub_lines)"
   ]
  },
  {
   "cell_type": "code",
   "execution_count": null,
   "metadata": {},
   "outputs": [],
   "source": [
    "x, y = 5, 10"
   ]
  },
  {
   "cell_type": "code",
   "execution_count": null,
   "metadata": {},
   "outputs": [],
   "source": [
    "[x,y][1] += 20"
   ]
  },
  {
   "cell_type": "code",
   "execution_count": null,
   "metadata": {},
   "outputs": [],
   "source": [
    "v = [x,y]"
   ]
  },
  {
   "cell_type": "code",
   "execution_count": null,
   "metadata": {},
   "outputs": [],
   "source": [
    "v[1] += 20"
   ]
  },
  {
   "cell_type": "code",
   "execution_count": null,
   "metadata": {},
   "outputs": [],
   "source": [
    "v"
   ]
  },
  {
   "cell_type": "code",
   "execution_count": null,
   "metadata": {},
   "outputs": [],
   "source": [
    "x = input('input anything')"
   ]
  },
  {
   "cell_type": "code",
   "execution_count": null,
   "metadata": {},
   "outputs": [],
   "source": [
    "random.randint(0,6)"
   ]
  },
  {
   "cell_type": "code",
   "execution_count": null,
   "metadata": {},
   "outputs": [],
   "source": [
    "random.choice(list({1}))"
   ]
  },
  {
   "cell_type": "code",
   "execution_count": null,
   "metadata": {},
   "outputs": [],
   "source": []
  },
  {
   "cell_type": "code",
   "execution_count": null,
   "metadata": {},
   "outputs": [],
   "source": [
    "v = {1,2,3}"
   ]
  },
  {
   "cell_type": "code",
   "execution_count": null,
   "metadata": {},
   "outputs": [],
   "source": [
    "v.add(4)"
   ]
  },
  {
   "cell_type": "code",
   "execution_count": null,
   "metadata": {},
   "outputs": [],
   "source": [
    "v"
   ]
  },
  {
   "cell_type": "code",
   "execution_count": null,
   "metadata": {},
   "outputs": [],
   "source": [
    "v.add(5)"
   ]
  },
  {
   "cell_type": "code",
   "execution_count": null,
   "metadata": {},
   "outputs": [],
   "source": [
    "v"
   ]
  },
  {
   "cell_type": "code",
   "execution_count": null,
   "metadata": {},
   "outputs": [],
   "source": [
    "x = [1,2,3,4,5,6]"
   ]
  },
  {
   "cell_type": "code",
   "execution_count": null,
   "metadata": {},
   "outputs": [],
   "source": [
    "any([n == 7 for n in x])"
   ]
  },
  {
   "cell_type": "code",
   "execution_count": null,
   "metadata": {},
   "outputs": [],
   "source": [
    "h = {n: False for n in range(6)}"
   ]
  },
  {
   "cell_type": "code",
   "execution_count": null,
   "metadata": {},
   "outputs": [],
   "source": [
    "h"
   ]
  },
  {
   "cell_type": "code",
   "execution_count": null,
   "metadata": {},
   "outputs": [],
   "source": [
    "i = {0: False, 1: True, 2: False, 3: True, 4: False, 5: False}"
   ]
  },
  {
   "cell_type": "code",
   "execution_count": null,
   "metadata": {},
   "outputs": [],
   "source": [
    "list(filter(lambda x: not i[x], i.keys()))"
   ]
  },
  {
   "cell_type": "code",
   "execution_count": 3,
   "metadata": {},
   "outputs": [
    {
     "data": {
      "text/plain": [
       "array([[None, None, None, None, None, None, None],\n",
       "       [None, None, None, None, None, None, None],\n",
       "       [None, None, None, None, None, None, None],\n",
       "       [None, None, None, None, None, None, None],\n",
       "       [None, None, None, None, None, None, None],\n",
       "       [None, None, None, None, None, None, None]], dtype=object)"
      ]
     },
     "execution_count": 3,
     "metadata": {},
     "output_type": "execute_result"
    }
   ],
   "source": [
    "np.array([None] * 42).reshape(6,7)"
   ]
  },
  {
   "cell_type": "code",
   "execution_count": 17,
   "metadata": {},
   "outputs": [
    {
     "data": {
      "text/plain": [
       "array([[None, None, None, None, None, None, None],\n",
       "       [None, None, None, None, None, None, None],\n",
       "       [None, None, None, None, None, None, None],\n",
       "       [None, None, None, None, None, None, None],\n",
       "       [None, None, None, None, None, None, None],\n",
       "       [None, None, None, None, None, None, None]], dtype=object)"
      ]
     },
     "execution_count": 17,
     "metadata": {},
     "output_type": "execute_result"
    }
   ],
   "source": [
    "np.full((6,7), None)"
   ]
  },
  {
   "cell_type": "code",
   "execution_count": 10,
   "metadata": {},
   "outputs": [
    {
     "data": {
      "text/plain": [
       "array([[-0.00000000e+000, -0.00000000e+000,  1.92685602e-322,\n",
       "         0.00000000e+000,  0.00000000e+000,  0.00000000e+000,\n",
       "         0.00000000e+000],\n",
       "       [ 0.00000000e+000,  0.00000000e+000,  0.00000000e+000,\n",
       "         0.00000000e+000,  0.00000000e+000,  0.00000000e+000,\n",
       "         6.92606251e-310],\n",
       "       [ 6.92606251e-310,  0.00000000e+000,  0.00000000e+000,\n",
       "         0.00000000e+000,  0.00000000e+000,  0.00000000e+000,\n",
       "         0.00000000e+000],\n",
       "       [ 0.00000000e+000,  0.00000000e+000,  0.00000000e+000,\n",
       "         0.00000000e+000,  0.00000000e+000,  0.00000000e+000,\n",
       "         0.00000000e+000],\n",
       "       [ 0.00000000e+000,  0.00000000e+000,  0.00000000e+000,\n",
       "         0.00000000e+000,  0.00000000e+000,  0.00000000e+000,\n",
       "         0.00000000e+000],\n",
       "       [ 0.00000000e+000,  0.00000000e+000,  0.00000000e+000,\n",
       "         0.00000000e+000,  0.00000000e+000,  0.00000000e+000,\n",
       "         0.00000000e+000]])"
      ]
     },
     "execution_count": 10,
     "metadata": {},
     "output_type": "execute_result"
    }
   ],
   "source": [
    "np.empty((6,7))"
   ]
  },
  {
   "cell_type": "code",
   "execution_count": 77,
   "metadata": {},
   "outputs": [
    {
     "data": {
      "text/plain": [
       "[1, 1, 1]"
      ]
     },
     "execution_count": 77,
     "metadata": {},
     "output_type": "execute_result"
    }
   ],
   "source": [
    "list(filter(lambda x: x == 1, [1,2,3,4,5,3,2,1,2,1]))"
   ]
  },
  {
   "cell_type": "code",
   "execution_count": 100,
   "metadata": {},
   "outputs": [],
   "source": [
    "lst = np.full(6, None)"
   ]
  },
  {
   "cell_type": "code",
   "execution_count": 102,
   "metadata": {},
   "outputs": [
    {
     "data": {
      "text/plain": [
       "array([ True,  True,  True,  True,  True,  True])"
      ]
     },
     "execution_count": 102,
     "metadata": {},
     "output_type": "execute_result"
    }
   ],
   "source": [
    "lst == None"
   ]
  },
  {
   "cell_type": "code",
   "execution_count": 99,
   "metadata": {},
   "outputs": [
    {
     "data": {
      "text/plain": [
       "array([None, None, None, None, None, None], dtype=object)"
      ]
     },
     "execution_count": 99,
     "metadata": {},
     "output_type": "execute_result"
    }
   ],
   "source": [
    "lst"
   ]
  },
  {
   "cell_type": "code",
   "execution_count": 37,
   "metadata": {},
   "outputs": [],
   "source": [
    "\n",
    "j = np.array([1,2,3,4,5,4,3,2])"
   ]
  },
  {
   "cell_type": "code",
   "execution_count": 55,
   "metadata": {},
   "outputs": [
    {
     "data": {
      "text/plain": [
       "(array([], dtype=int64),)"
      ]
     },
     "execution_count": 55,
     "metadata": {},
     "output_type": "execute_result"
    }
   ],
   "source": [
    "np.where(x < 3)"
   ]
  },
  {
   "cell_type": "code",
   "execution_count": 1,
   "metadata": {},
   "outputs": [
    {
     "ename": "NameError",
     "evalue": "name 'Grid' is not defined",
     "output_type": "error",
     "traceback": [
      "\u001b[0;31m---------------------------------------------------------------------------\u001b[0m",
      "\u001b[0;31mNameError\u001b[0m                                 Traceback (most recent call last)",
      "\u001b[0;32m<ipython-input-1-32dff216094d>\u001b[0m in \u001b[0;36m<module>\u001b[0;34m\u001b[0m\n\u001b[0;32m----> 1\u001b[0;31m \u001b[0;32mclass\u001b[0m \u001b[0mTestGrid\u001b[0m\u001b[0;34m(\u001b[0m\u001b[0mGrid\u001b[0m\u001b[0;34m)\u001b[0m\u001b[0;34m:\u001b[0m\u001b[0;34m\u001b[0m\u001b[0;34m\u001b[0m\u001b[0m\n\u001b[0m\u001b[1;32m      2\u001b[0m     char = {\n\u001b[1;32m      3\u001b[0m             \u001b[0mPiece\u001b[0m\u001b[0;34m.\u001b[0m\u001b[0mRED\u001b[0m \u001b[0;34m:\u001b[0m \u001b[0;34m'⚈'\u001b[0m\u001b[0;34m,\u001b[0m\u001b[0;34m\u001b[0m\u001b[0;34m\u001b[0m\u001b[0m\n\u001b[1;32m      4\u001b[0m             \u001b[0mPiece\u001b[0m\u001b[0;34m.\u001b[0m\u001b[0mYELLOW\u001b[0m \u001b[0;34m:\u001b[0m \u001b[0;34m'◯'\u001b[0m\u001b[0;34m,\u001b[0m\u001b[0;34m\u001b[0m\u001b[0;34m\u001b[0m\u001b[0m\n\u001b[1;32m      5\u001b[0m             \u001b[0mPiece\u001b[0m\u001b[0;34m.\u001b[0m\u001b[0mEMPTY\u001b[0m \u001b[0;34m:\u001b[0m \u001b[0;34m'_'\u001b[0m\u001b[0;34m\u001b[0m\u001b[0;34m\u001b[0m\u001b[0m\n",
      "\u001b[0;31mNameError\u001b[0m: name 'Grid' is not defined"
     ]
    }
   ],
   "source": [
    "class TestGrid(Grid):\n",
    "    char = {\n",
    "            Piece.RED : '⚈',\n",
    "            Piece.YELLOW : '◯',\n",
    "            Piece.EMPTY : '_'\n",
    "        }\n",
    "    \n",
    "    def __init__(self):\n",
    "        super().__init__()\n",
    "#         self.grid = self.make_random_grid()\n",
    "        \n",
    "    def make_random_grid(self):\n",
    "        pool = list(Piece)\n",
    "        grid = []\n",
    "        for x in range(6):\n",
    "            grid.append(random.choices(pool, k = 7))\n",
    "        return np.array(grid)\n",
    "    \n",
    "    def print_grid(self):\n",
    "        print()\n",
    "        for line in np.flipud(self.grid):\n",
    "            print([self.char[x] for x in line])\n",
    "\n",
    "    def test_play(self):\n",
    "        winner = self.test_random_till_winner()\n",
    "        print(self.grid)\n",
    "        # self.print_grid()\n",
    "        return winner.value\n",
    "        # print(winner)\n",
    "#         return self.get_winner()\n",
    "    \n",
    "    def test_random_till_winner(self):\n",
    "        order = []\n",
    "        while True:\n",
    "            players = [Piece.RED, Piece.YELLOW]\n",
    "            for p in players:\n",
    "                col = random.choice(self.valid_moves())\n",
    "                state = self.update(p, col)\n",
    "                order.append(p.value + str(col))\n",
    "                if state.is_ended:\n",
    "                    # print()\n",
    "                    return state.winner\n",
    "                \n",
    "# for x in range(10):\n",
    "\n",
    "\n",
    "#     g1 = TestGrid()\n",
    "#     print(g1.test_play())"
   ]
  },
  {
   "cell_type": "code",
   "execution_count": 2,
   "metadata": {},
   "outputs": [],
   "source": [
    "# flatten massive list thing into a list of lists\n",
    "\n",
    "class ListFlatten:\n",
    "    def __init__(self, group):\n",
    "        self.result = []\n",
    "        \n",
    "    def flatten(self):\n",
    "        self.backtrack(group)\n",
    "        return self.result\n",
    "        \n",
    "    def backtrack(self, group):\n",
    "        if type(group[0]) != list:\n",
    "            self.result.append(group)\n",
    "        else:\n",
    "            for item in group:\n",
    "                self.backtrack(item)\n",
    "        "
   ]
  },
  {
   "cell_type": "code",
   "execution_count": 26,
   "metadata": {},
   "outputs": [],
   "source": [
    "import random\n",
    "pool = [0,1,2,0]\n",
    "lsts = [random.choices(pool, k= 7) for x in range(5)]\n",
    "def scorer(lst):\n",
    "    score = 0\n",
    "    for l in lst:\n",
    "        for i in range(len(l) - 3):\n",
    "            print(l[i: i + 4])\n",
    "        "
   ]
  },
  {
   "cell_type": "code",
   "execution_count": 27,
   "metadata": {},
   "outputs": [
    {
     "data": {
      "text/plain": [
       "[[0, 2, 0, 0, 1, 0, 1],\n",
       " [0, 0, 2, 2, 1, 0, 1],\n",
       " [0, 0, 0, 1, 2, 2, 0],\n",
       " [2, 0, 1, 0, 1, 0, 0],\n",
       " [0, 0, 2, 0, 0, 0, 0]]"
      ]
     },
     "execution_count": 27,
     "metadata": {},
     "output_type": "execute_result"
    }
   ],
   "source": [
    "lsts"
   ]
  },
  {
   "cell_type": "code",
   "execution_count": 25,
   "metadata": {},
   "outputs": [
    {
     "name": "stdout",
     "output_type": "stream",
     "text": [
      "[2, 2, 1, 1]\n",
      "[2, 1, 1, 1]\n",
      "[1, 1, 1, 2]\n",
      "[1, 1, 2, 0]\n",
      "[1, 2, 1, 1]\n",
      "[2, 1, 1, 0]\n",
      "[1, 1, 0, 0]\n",
      "[1, 0, 0, 0]\n",
      "[2, 2, 1, 0]\n",
      "[2, 1, 0, 2]\n",
      "[1, 0, 2, 2]\n",
      "[0, 2, 2, 1]\n",
      "[0, 0, 0, 1]\n",
      "[0, 0, 1, 1]\n",
      "[0, 1, 1, 0]\n",
      "[1, 1, 0, 0]\n",
      "[0, 2, 1, 1]\n",
      "[2, 1, 1, 1]\n",
      "[1, 1, 1, 0]\n",
      "[1, 1, 0, 2]\n"
     ]
    }
   ],
   "source": [
    "scorer(lsts)"
   ]
  },
  {
   "cell_type": "code",
   "execution_count": null,
   "metadata": {},
   "outputs": [],
   "source": []
  }
 ],
 "metadata": {
  "kernelspec": {
   "display_name": "Python 3",
   "language": "python",
   "name": "python3"
  },
  "language_info": {
   "codemirror_mode": {
    "name": "ipython",
    "version": 3
   },
   "file_extension": ".py",
   "mimetype": "text/x-python",
   "name": "python",
   "nbconvert_exporter": "python",
   "pygments_lexer": "ipython3",
   "version": "3.8.5"
  }
 },
 "nbformat": 4,
 "nbformat_minor": 4
}
