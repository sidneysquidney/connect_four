{
 "cells": [
  {
   "cell_type": "code",
   "execution_count": 8,
   "metadata": {},
   "outputs": [],
   "source": [
    "\n",
    "# create a game with 4 level depth. only 2 moves. \n",
    "class Node:\n",
    "    def __init__(self, value):\n",
    "        self.value = value\n",
    "        self.children = {'l': None, 'r': None}\n",
    "    \n",
    "    def set_children(self, l, r):\n",
    "        self.children['l'] = l\n",
    "        self.children['r'] = r\n",
    "        \n",
    "class Tree:\n",
    "    def __init__(self, start_node):\n",
    "        self.start_node = start_node\n",
    "\n",
    "class MiniMax:\n",
    "    def __init__(self, tree):\n",
    "        self.max = 0\n",
    "        self.min = 1\n",
    "        self.tree = tree\n",
    "        self.current_player = self.min\n",
    "        \n",
    "    def algo(self):\n",
    "        current_node = self.tree.start_node\n",
    "        for child in current_node.children:\n",
    "            \n",
    "        \n",
    "        \n",
    "    "
   ]
  },
  {
   "cell_type": "code",
   "execution_count": 20,
   "metadata": {},
   "outputs": [],
   "source": [
    "start = Node(None)\n",
    "nodes = {}\n",
    "l = [-1,3,5,1,-6,-4,0,9]\n",
    "def sn(p,l,r):\n",
    "    p.set_children(l,r)\n",
    "\n",
    "for n in range(2):\n",
    "    nodes['a' + str(n)] = Node(None)\n",
    "    \n",
    "for n in range(4):\n",
    "    nodes['b' + str(n)] = Node(None)\n",
    "    \n",
    "for n in range(8):\n",
    "    nodes['c' + str(n)] = Node(l[n])\n",
    "\n",
    "sn(start, nodes['a0'], nodes['a1'])\n",
    "sn(nodes['a0'], nodes['b0'], nodes['b1'])\n",
    "sn(nodes['a1'], nodes['b2'], nodes['b3'])\n",
    "sn(nodes['b0'], nodes['c0'], nodes['c1'])\n",
    "sn(nodes['b1'], nodes['c2'], nodes['c3'])\n",
    "sn(nodes['b2'], nodes['c4'], nodes['c5'])\n",
    "sn(nodes['b3'], nodes['c6'], nodes['c7'])\n",
    "    \n",
    "\n",
    "    "
   ]
  },
  {
   "cell_type": "code",
   "execution_count": 22,
   "metadata": {},
   "outputs": [
    {
     "name": "stdout",
     "output_type": "stream",
     "text": [
      "None {'l': <__main__.Node object at 0x7fddf64e3760>, 'r': <__main__.Node object at 0x7fddf75da8e0>}\n",
      "None {'l': <__main__.Node object at 0x7fddf75da8b0>, 'r': <__main__.Node object at 0x7fddf75da820>}\n",
      "None {'l': <__main__.Node object at 0x7fddf75da9d0>, 'r': <__main__.Node object at 0x7fddf75da580>}\n",
      "None {'l': <__main__.Node object at 0x7fddf75da760>, 'r': <__main__.Node object at 0x7fddf75da6d0>}\n",
      "None {'l': <__main__.Node object at 0x7fddf75da640>, 'r': <__main__.Node object at 0x7fddf75da550>}\n",
      "None {'l': <__main__.Node object at 0x7fddf75da5e0>, 'r': <__main__.Node object at 0x7fddf75eaca0>}\n",
      "-1 {'l': None, 'r': None}\n",
      "3 {'l': None, 'r': None}\n",
      "5 {'l': None, 'r': None}\n",
      "1 {'l': None, 'r': None}\n",
      "-6 {'l': None, 'r': None}\n",
      "-4 {'l': None, 'r': None}\n",
      "0 {'l': None, 'r': None}\n",
      "9 {'l': None, 'r': None}\n"
     ]
    }
   ],
   "source": [
    "for n in nodes:\n",
    "    print(nodes[n].value, nodes[n].children)"
   ]
  },
  {
   "cell_type": "code",
   "execution_count": 2,
   "metadata": {},
   "outputs": [],
   "source": [
    "import math"
   ]
  },
  {
   "cell_type": "code",
   "execution_count": 5,
   "metadata": {},
   "outputs": [
    {
     "data": {
      "text/plain": [
       "nan"
      ]
     },
     "execution_count": 5,
     "metadata": {},
     "output_type": "execute_result"
    }
   ],
   "source": [
    "math.inf * 0"
   ]
  },
  {
   "cell_type": "code",
   "execution_count": 10,
   "metadata": {},
   "outputs": [
    {
     "name": "stdout",
     "output_type": "stream",
     "text": [
      "sid\n"
     ]
    }
   ],
   "source": [
    "if math.inf * 0:\n",
    "    print('sid')"
   ]
  },
  {
   "cell_type": "code",
   "execution_count": 11,
   "metadata": {},
   "outputs": [],
   "source": [
    "b = {1: 'one', 2: 'two'}"
   ]
  },
  {
   "cell_type": "code",
   "execution_count": 12,
   "metadata": {},
   "outputs": [
    {
     "name": "stdout",
     "output_type": "stream",
     "text": [
      "1\n",
      "2\n"
     ]
    }
   ],
   "source": [
    "for child in b:\n",
    "    print(child)"
   ]
  },
  {
   "cell_type": "code",
   "execution_count": null,
   "metadata": {},
   "outputs": [],
   "source": []
  }
 ],
 "metadata": {
  "interpreter": {
   "hash": "0e8f8d5f7bb38976da61cc69c4345a0f99d2e87ba7f70b5485b400ccfd45ecf3"
  },
  "kernelspec": {
   "display_name": "Python 3.8.5 64-bit ('base': conda)",
   "language": "python",
   "name": "python3"
  },
  "language_info": {
   "codemirror_mode": {
    "name": "ipython",
    "version": 3
   },
   "file_extension": ".py",
   "mimetype": "text/x-python",
   "name": "python",
   "nbconvert_exporter": "python",
   "pygments_lexer": "ipython3",
   "version": "3.8.5"
  },
  "orig_nbformat": 4
 },
 "nbformat": 4,
 "nbformat_minor": 2
}
