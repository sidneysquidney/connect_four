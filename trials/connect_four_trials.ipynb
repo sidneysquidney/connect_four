{
 "cells": [
  {
   "cell_type": "markdown",
   "metadata": {},
   "source": [
    "- make a numpy grid\n",
    "- grid class - make_grid, check_winner, mave_move, play_game, \n",
    "- computer class - subclasses impossible, hard, medium, easy\n",
    "\n",
    "- recursion method of teking each pos 7 moves, then the next from there, maybe done in a tree method to store info\n",
    "- need to calc computer win, other player win, and if not opportunity for future win, \n",
    "\n",
    "- create parent children structure\n",
    "- what does the parent need to pass on to the children - grid, score, who is player 1 and who is player_2, current_player, computer, parent, level, space, lines_dict\n"
   ]
  },
  {
   "cell_type": "code",
   "execution_count": null,
   "metadata": {},
   "outputs": [],
   "source": [
    "Homework1 - "
   ]
  },
  {
   "cell_type": "code",
   "execution_count": 3,
   "metadata": {},
   "outputs": [],
   "source": [
    "import numpy as np\n",
    "import random\n",
    "from functools import reduce, wraps\n",
    "from time import sleep, perf_counter"
   ]
  },
  {
   "cell_type": "code",
   "execution_count": 4,
   "metadata": {},
   "outputs": [],
   "source": [
    "def timeit(func):\n",
    "    start = perf_counter()\n",
    "    @wraps(func)\n",
    "    def wrapper_timer(*args, **kwargs):\n",
    "        tic = perf_counter()\n",
    "        value = func(*args, **kwargs)\n",
    "        toc = perf_counter()\n",
    "        elapsed_time = toc - tic\n",
    "        print(f\"Elapsed time: {elapsed_time:0.4f} seconds\")\n",
    "        return value\n",
    "    return wrapper_timer"
   ]
  },
  {
   "cell_type": "code",
   "execution_count": 131,
   "metadata": {},
   "outputs": [],
   "source": [
    "class Grid:\n",
    "    def __init__(self): \n",
    "        self.player_1 = 'X'\n",
    "        self.player_2 = 'O'\n",
    "        self.current_player = self.player_1\n",
    "        self.opposition = self.player_2\n",
    "        self.grid = np.array([None] * 42).reshape(6,7)\n",
    "        self.space = {n: 5 for n in range(7)}\n",
    "        self.number_grid = np.arange(42).reshape(6,7)\n",
    "        self.lines_dict = {n: [None] * 4 for n in range(42)}\n",
    "        self.apply_lines_to_lines_dict()\n",
    "        self.children = {}\n",
    "        self.level = 0\n",
    "        self.score = 0\n",
    "        self.winner = False\n",
    "        \n",
    "#     determines if there is space in the desired column \n",
    "    def has_space(self, column):\n",
    "        return self.space[column] >= 0\n",
    "    \n",
    "#     gets the row index for the desired column\n",
    "    def get_row(self, column):\n",
    "        return self.space[column]\n",
    "        \n",
    "#     inputs the player counter into the next available space in the column, then changes the current player\n",
    "    def make_move(self, player, column):\n",
    "        row = self.get_row(column)\n",
    "        self.grid[row, column] = player\n",
    "        self.space[column] -= 1\n",
    "        self.current_player, self.opposition = self.opposition, self.current_player\n",
    "        \n",
    "#     searches the lines parameter for a winner (four in a row of anything except None)\n",
    "    def winner_search(self, lines):\n",
    "        for line in lines:\n",
    "            count = 1\n",
    "            for i in range(1, len(line)):\n",
    "                if line[i] == line[i - 1]:\n",
    "                    count += 1\n",
    "                else:\n",
    "                    count = 1\n",
    "                if count == 4:\n",
    "                    if not line[i]:\n",
    "                        continue\n",
    "                    return line[i]\n",
    "        return False\n",
    "            \n",
    "#     searches all lines in a grid for the winner\n",
    "    def get_winner(self):\n",
    "        return self.winner_search(self.get_lines(self.grid)[::-1])\n",
    "\n",
    "#     searches just the lines that intersect at coordinates grid[row,column]\n",
    "    def get_winner2(self, row, column):\n",
    "        return self.winner_search(self.get_lines_from_position(row, column))\n",
    "    \n",
    "#     score calculated by opportunities to make four in a row of one player minus opportunities for the other player\n",
    "    def score_search(self, lines):\n",
    "        scores = [0, 0]\n",
    "        for lsts in lines:\n",
    "            for line in lsts:\n",
    "                sub_lines = [line[x - 4: x] for x in range(4, len(line) + 1)]\n",
    "                for i in range(2):\n",
    "                    for sub in sub_lines:\n",
    "                        if not (([self.player_1, self.player_2][i - 1] in sub) or (set(sub) == {None})):\n",
    "                            scores[i] += 1\n",
    "                            break\n",
    "        return scores[0] - scores[1]\n",
    "\n",
    "    def get_score(self):\n",
    "        return self.score_search(self.get_lines(self.grid))\n",
    "    \n",
    "    def get_score2(self, row, column):\n",
    "        return self.score_search([self.get_lines_from_position(row, column)])\n",
    "                    \n",
    "    def input_grid(self, grid):\n",
    "        self.grid = grid\n",
    "    \n",
    "#     returns a list of lines (that have a length greater than 4) from the grid - rows, columns, both diagonals\n",
    "    def get_lines(self, grid):\n",
    "        return [[list(x) for x in grid], [list(grid[:,c]) for c in range(7)], [list(np.diag(grid, x)) for x in range(-2, 4)],[list(np.diag(np.fliplr(grid), x)) for x in range(-2, 4)]]\n",
    "    \n",
    "#     the children are the possible moves from the current grid. The depth is how many times this iterates.\n",
    "    def make_children(self, depth_limit):   \n",
    "        if (self.level == depth_limit) or self.winner:\n",
    "            return\n",
    "        for col in range(7):\n",
    "            if self.has_space(col):\n",
    "                self.children[col] = GridChild(self.grid.copy(), self.space.copy(), self.number_grid, self.lines_dict, self, self.level, self.current_player, self.opposition, depth_limit, self.get_row(col), col, self.score)\n",
    "\n",
    "#     gets the lines from coordinates[x,y]\n",
    "    def get_lines_from_position(self, x, y):\n",
    "        l1, l2, l3, l4 = self.lines_dict[self.number_grid[x,y]]\n",
    "        lines = []\n",
    "        lines.append(self.grid[l1,:])\n",
    "        if isinstance(l2, int):\n",
    "            lines.append(self.grid[:, l2])\n",
    "        if isinstance(l3, int):\n",
    "            lines.append(np.diag(self.grid, l3))\n",
    "        if isinstance(l4, int):\n",
    "            lines.append(np.diag(np.fliplr(self.grid), l4))\n",
    "        return lines\n",
    "\n",
    "#     helper function to create self.lines_dict - a dictionary with values of the indicies for the lines to be searched \n",
    "    def apply_lines_to_lines_dict(self):\n",
    "        groups = self.get_lines(self.number_grid)\n",
    "        for i in range(42):\n",
    "            for r in range(7):\n",
    "                for ind in range(4):\n",
    "                    if r == 6:\n",
    "                        if i in groups[1][r]:\n",
    "                            self.lines_dict[i][1] = r\n",
    "                    elif ind < 2:\n",
    "                        if i in groups[ind][r]:\n",
    "                            self.lines_dict[i][ind] = r\n",
    "                    else:\n",
    "                        if i in groups[ind][r]:\n",
    "                            self.lines_dict[i][ind] = r - 2  \n",
    "                        \n",
    "    def print_grid(self):\n",
    "        new_grid = self.grid.copy()\n",
    "        new_grid[new_grid == None] = '_'\n",
    "        print()\n",
    "        print(new_grid)\n",
    "\n",
    "        \n",
    "        "
   ]
  },
  {
   "cell_type": "code",
   "execution_count": 132,
   "metadata": {},
   "outputs": [],
   "source": [
    "class GridChild(Grid):\n",
    "    def __init__(self, grid, space, number_grid, lines_dict, parent, level, current_player, opposition, depth_limit, row, col, score):\n",
    "        self.player_1 = 'X'\n",
    "        self.player_2 = 'O'\n",
    "        self.current_player = current_player\n",
    "        self.opposition = opposition\n",
    "        self.grid = grid\n",
    "        self.space = space\n",
    "        self.number_grid = number_grid\n",
    "        self.lines_dict = lines_dict\n",
    "        self.parent = parent\n",
    "        self.children = {}\n",
    "        self.level = level + 1\n",
    "        # self.carry = 0\n",
    "        self.last_move = [row, col]\n",
    "        self.make_move(self.current_player, col)\n",
    "        self.winner = self.get_winner2(row, col)\n",
    "        self.score = self.get_score()\n",
    "        # self.score2 = score + self.get_score2(row, col) + self.carry\n",
    "        self.make_children(depth_limit)\n",
    "        \n",
    "    def make_move(self, player, column):\n",
    "        # self.carry = - self.get_score2(self.get_row(column), column)\n",
    "        super().make_move(player, column)\n",
    "        \n",
    "# score seems to be faster than score2, but from make_children the score function definitely takes up the most time\n"
   ]
  },
  {
   "cell_type": "code",
   "execution_count": 194,
   "metadata": {},
   "outputs": [],
   "source": [
    "class TestGrid(Grid):\n",
    "    def make_random_grid(self):\n",
    "        pool = ['X', 'O', None]\n",
    "        grid = []\n",
    "        for x in range(6):\n",
    "            grid.append(random.choices(pool, k = 7))\n",
    "        return np.array(grid)\n",
    "    \n",
    "    def test_play(self):\n",
    "        self.grid = self.make_random_grid()\n",
    "        print(self.grid)\n",
    "        return self.get_winner()\n",
    "    \n",
    "    def test_random_till_winner(self):\n",
    "        order = []\n",
    "        while True:\n",
    "            players = ['X', 'O']\n",
    "            for p in players:\n",
    "                while True:\n",
    "                    col = random.randint(0,6)\n",
    "                    if self.has_space(col):\n",
    "                        break\n",
    "                row = self.space[col]\n",
    "                self.make_move(p, col)\n",
    "                winner = self.get_winner2(row, col)\n",
    "                order.append(p + str(col))\n",
    "                if winner:\n",
    "                    self.print_grid(self.grid)\n",
    "                    print()\n",
    "                    return winner, self.get_score()\n",
    "    \n",
    "    def two_player_game(self):\n",
    "        print('playing game')\n",
    "        while True:\n",
    "            computer_moved = False\n",
    "            if set(self.space.values()) == {-1}:\n",
    "                print('Non Winner')\n",
    "                return\n",
    "            while True:\n",
    "                turn = input('input 0 - 6 for the column')\n",
    "                if turn.isdigit() and 0 <= int(turn) < 7 and self.has_space(int(turn)):\n",
    "                    break\n",
    "            row = self.get_row(int(turn))\n",
    "            self.make_move(self.player_1, int(turn))\n",
    "            self.print_grid()\n",
    "            if self.get_winner2(row, int(turn)):\n",
    "                print('You have won')\n",
    "                return\n",
    "            \n",
    "#             computer turn\n",
    "\n",
    "            self.make_children(2)\n",
    "            for child in self.children.values():\n",
    "                if child.winner:\n",
    "                    self.make_move(self.player_2, child.last_move[1])\n",
    "                    self.print_grid()\n",
    "                    print('computer wins')\n",
    "                    return\n",
    "            parents = {}\n",
    "            for child in self.children.values():\n",
    "                for grandchild in child.children.values():\n",
    "                    if grandchild.winner:\n",
    "                        parents[grandchild.parent.last_move[1]] = grandchild.parent\n",
    "#                         parents.append(grandchild.parent.last_move[1])\n",
    "            if parents:\n",
    "                moves = {0,1,2,3,4,5,6}.difference(set(parents.keys()))\n",
    "                moves = list(filter(self.has_space, list(moves)))\n",
    "                if moves:\n",
    "                    new_moves = [self.children[x] for x in moves]\n",
    "                    new_moves = sorted(new_moves, key = lambda x: x.score)\n",
    "                    print(new_moves)\n",
    "                    move = new_moves[0].last_move[1]\n",
    "                    self.make_move(self.player_2, move)\n",
    "                    computer_moved = True\n",
    "# #                     print('move true')\n",
    "#                     while True:\n",
    "#                         if self.has_space(move):\n",
    "#                             print('move worked', move)\n",
    "#                             break\n",
    "            if not computer_moved:\n",
    "                moves = list(filter(self.has_space, [0,1,2,3,4,5,6]))\n",
    "                turn = random.choice(moves)\n",
    "                self.make_move(self.player_2, turn)\n",
    "                computer_moved = True\n",
    "            if computer_moved:\n",
    "                self.print_grid()\n",
    "                self.children = {}   \n",
    "        return "
   ]
  },
  {
   "cell_type": "code",
   "execution_count": 195,
   "metadata": {},
   "outputs": [
    {
     "name": "stdout",
     "output_type": "stream",
     "text": [
      "sid\n"
     ]
    }
   ],
   "source": [
    "print('sid')"
   ]
  },
  {
   "cell_type": "code",
   "execution_count": 197,
   "metadata": {},
   "outputs": [
    {
     "name": "stdout",
     "output_type": "stream",
     "text": [
      "playing game\n"
     ]
    },
    {
     "name": "stdin",
     "output_type": "stream",
     "text": [
      "input 0 - 6 for the column 3\n",
      "input 0 - 6 for the column 3\n",
      "input 0 - 6 for the column 4\n"
     ]
    },
    {
     "name": "stdout",
     "output_type": "stream",
     "text": [
      "\n",
      "[['_' '_' '_' 'O' '_' '_' '_']\n",
      " ['_' '_' '_' 'O' '_' '_' '_']\n",
      " ['_' '_' '_' 'O' '_' '_' '_']\n",
      " ['_' 'X' 'X' 'O' '_' '_' '_']\n",
      " ['_' 'X' 'X' 'X' 'X' '_' '_']\n",
      " ['O' 'X' 'X' 'X' 'O' 'O' 'O']]\n",
      "You have won\n"
     ]
    }
   ],
   "source": [
    "#### g1 = TestGrid()\n",
    "g1.two_player_game()\n"
   ]
  },
  {
   "cell_type": "code",
   "execution_count": 77,
   "metadata": {},
   "outputs": [],
   "source": [
    "g1 = TestGrid()\n",
    "g1.make_children(3)"
   ]
  },
  {
   "cell_type": "code",
   "execution_count": 78,
   "metadata": {},
   "outputs": [],
   "source": [
    "g1 = TestGrid()\n",
    "g1.make_children(4)"
   ]
  },
  {
   "cell_type": "code",
   "execution_count": 79,
   "metadata": {},
   "outputs": [],
   "source": [
    "g1 = TestGrid()\n",
    "g1.make_children(5)"
   ]
  },
  {
   "cell_type": "code",
   "execution_count": 80,
   "metadata": {},
   "outputs": [],
   "source": [
    "g1 = TestGrid()\n",
    "g1.make_children(6)"
   ]
  },
  {
   "cell_type": "code",
   "execution_count": 71,
   "metadata": {},
   "outputs": [],
   "source": [
    "g1 = TestGrid()\n",
    "g1.make_children(7)"
   ]
  },
  {
   "cell_type": "code",
   "execution_count": null,
   "metadata": {},
   "outputs": [],
   "source": [
    "g1 = TestGrid()\n",
    "g1.make_children(8)"
   ]
  },
  {
   "cell_type": "code",
   "execution_count": null,
   "metadata": {},
   "outputs": [],
   "source": [
    "g1 = TestGrid()\n",
    "g1.make_children(9)"
   ]
  },
  {
   "cell_type": "code",
   "execution_count": null,
   "metadata": {},
   "outputs": [],
   "source": [
    "g1 = TestGrid()\n",
    "g1.make_children(10)"
   ]
  },
  {
   "cell_type": "code",
   "execution_count": null,
   "metadata": {},
   "outputs": [],
   "source": [
    "g1 = TestGrid()\n",
    "g1.make_children(11)"
   ]
  },
  {
   "cell_type": "code",
   "execution_count": null,
   "metadata": {},
   "outputs": [],
   "source": []
  },
  {
   "cell_type": "code",
   "execution_count": 26,
   "metadata": {},
   "outputs": [
    {
     "ename": "AttributeError",
     "evalue": "'GridChild' object has no attribute 'score2'",
     "output_type": "error",
     "traceback": [
      "\u001b[0;31m---------------------------------------------------------------------------\u001b[0m",
      "\u001b[0;31mAttributeError\u001b[0m                            Traceback (most recent call last)",
      "\u001b[0;32m<ipython-input-26-557f673c49b7>\u001b[0m in \u001b[0;36m<module>\u001b[0;34m\u001b[0m\n\u001b[1;32m      4\u001b[0m             \u001b[0;32mfor\u001b[0m \u001b[0mz\u001b[0m \u001b[0;32min\u001b[0m \u001b[0my\u001b[0m\u001b[0;34m.\u001b[0m\u001b[0mchildren\u001b[0m\u001b[0;34m.\u001b[0m\u001b[0mvalues\u001b[0m\u001b[0;34m(\u001b[0m\u001b[0;34m)\u001b[0m\u001b[0;34m:\u001b[0m\u001b[0;34m\u001b[0m\u001b[0;34m\u001b[0m\u001b[0m\n\u001b[1;32m      5\u001b[0m                 \u001b[0;32mfor\u001b[0m \u001b[0md\u001b[0m \u001b[0;32min\u001b[0m \u001b[0mz\u001b[0m\u001b[0;34m.\u001b[0m\u001b[0mchildren\u001b[0m\u001b[0;34m.\u001b[0m\u001b[0mvalues\u001b[0m\u001b[0;34m(\u001b[0m\u001b[0;34m)\u001b[0m\u001b[0;34m:\u001b[0m\u001b[0;34m\u001b[0m\u001b[0;34m\u001b[0m\u001b[0m\n\u001b[0;32m----> 6\u001b[0;31m                     \u001b[0;32mif\u001b[0m \u001b[0;32mnot\u001b[0m \u001b[0md\u001b[0m\u001b[0;34m.\u001b[0m\u001b[0mscore\u001b[0m \u001b[0;34m==\u001b[0m \u001b[0md\u001b[0m\u001b[0;34m.\u001b[0m\u001b[0mscore2\u001b[0m\u001b[0;34m:\u001b[0m\u001b[0;34m\u001b[0m\u001b[0;34m\u001b[0m\u001b[0m\n\u001b[0m\u001b[1;32m      7\u001b[0m                         \u001b[0mprint\u001b[0m\u001b[0;34m(\u001b[0m\u001b[0;34m'wrong'\u001b[0m\u001b[0;34m)\u001b[0m\u001b[0;34m\u001b[0m\u001b[0;34m\u001b[0m\u001b[0m\n\u001b[1;32m      8\u001b[0m \u001b[0;34m\u001b[0m\u001b[0m\n",
      "\u001b[0;31mAttributeError\u001b[0m: 'GridChild' object has no attribute 'score2'"
     ]
    }
   ],
   "source": [
    "for child in g1.children.values():\n",
    "    for x in child.children.values():\n",
    "        for y in x.children.values():\n",
    "            for z in y.children.values():\n",
    "                for d in z.children.values():\n",
    "                    if not d.score == d.score2:\n",
    "                        print('wrong')\n",
    "                        \n",
    "print('finished')\n",
    "    \n",
    "# both 15.9, 16.1\n",
    "# score2 10.2\n",
    "# score1 9.1\n",
    "# checkpoint wednesday evening score2 doesn't match up with score1. why?"
   ]
  },
  {
   "cell_type": "code",
   "execution_count": 183,
   "metadata": {},
   "outputs": [
    {
     "name": "stdout",
     "output_type": "stream",
     "text": [
      "3 3\n"
     ]
    },
    {
     "data": {
      "text/plain": [
       "False"
      ]
     },
     "execution_count": 183,
     "metadata": {},
     "output_type": "execute_result"
    }
   ],
   "source": [
    "x = random.randint(0,5)\n",
    "y = random.randint(0,6)\n",
    "print(x,y)\n",
    "g1.get_winner2(x, y)\n",
    "\n",
    "\n",
    "# ['X', None, None, None, None, 'O', 'X'] X - only x, should be 0 too\n",
    "# get all lines, for x, for o branch, sub each line into groups of 4, if 4 has set <= 2 including "
   ]
  },
  {
   "cell_type": "code",
   "execution_count": 610,
   "metadata": {},
   "outputs": [
    {
     "data": {
      "text/plain": [
       "array([[None, None, None, None, None, None, None],\n",
       "       [None, None, None, None, None, None, None],\n",
       "       [None, None, None, None, None, None, None],\n",
       "       [None, None, None, None, None, None, None],\n",
       "       [None, None, None, None, None, None, None],\n",
       "       [None, None, None, 'o', None, None, None]], dtype=object)"
      ]
     },
     "execution_count": 610,
     "metadata": {},
     "output_type": "execute_result"
    }
   ],
   "source": [
    "g1.make_move('o', 3)\n",
    "g1.grid"
   ]
  },
  {
   "cell_type": "code",
   "execution_count": 611,
   "metadata": {},
   "outputs": [],
   "source": [
    "g1.make_move('x', 3)\n",
    "# g1.get_next_available_index(3)"
   ]
  },
  {
   "cell_type": "code",
   "execution_count": 612,
   "metadata": {},
   "outputs": [],
   "source": [
    "g1.grid\n",
    "g1.make_move('o', 3)"
   ]
  },
  {
   "cell_type": "code",
   "execution_count": 613,
   "metadata": {},
   "outputs": [
    {
     "data": {
      "text/plain": [
       "array([[None, None, None, None, None, None, None],\n",
       "       [None, None, None, None, None, None, None],\n",
       "       [None, None, None, None, None, None, None],\n",
       "       [None, None, None, 'o', None, None, None],\n",
       "       [None, None, None, 'x', None, None, None],\n",
       "       [None, None, None, 'o', None, None, None]], dtype=object)"
      ]
     },
     "execution_count": 613,
     "metadata": {},
     "output_type": "execute_result"
    }
   ],
   "source": [
    "g1.grid"
   ]
  },
  {
   "cell_type": "code",
   "execution_count": 412,
   "metadata": {},
   "outputs": [],
   "source": [
    "g2 = Grid()"
   ]
  },
  {
   "cell_type": "code",
   "execution_count": 413,
   "metadata": {},
   "outputs": [],
   "source": [
    "g2.make_move('X', 3)"
   ]
  },
  {
   "cell_type": "code",
   "execution_count": 414,
   "metadata": {},
   "outputs": [],
   "source": [
    "score = g2.get_score()"
   ]
  },
  {
   "cell_type": "code",
   "execution_count": 415,
   "metadata": {},
   "outputs": [],
   "source": [
    "carry = - g2.get_score2(4,3)"
   ]
  },
  {
   "cell_type": "code",
   "execution_count": 416,
   "metadata": {},
   "outputs": [
    {
     "data": {
      "text/plain": [
       "-1"
      ]
     },
     "execution_count": 416,
     "metadata": {},
     "output_type": "execute_result"
    }
   ],
   "source": [
    "carry"
   ]
  },
  {
   "cell_type": "code",
   "execution_count": 417,
   "metadata": {},
   "outputs": [],
   "source": [
    "g2.make_move('O',3)"
   ]
  },
  {
   "cell_type": "code",
   "execution_count": 418,
   "metadata": {},
   "outputs": [],
   "source": [
    "score2 = g2.get_score2(4,3) + carry + score"
   ]
  },
  {
   "cell_type": "code",
   "execution_count": 421,
   "metadata": {},
   "outputs": [
    {
     "data": {
      "text/plain": [
       "-1"
      ]
     },
     "execution_count": 421,
     "metadata": {},
     "output_type": "execute_result"
    }
   ],
   "source": [
    "score2"
   ]
  },
  {
   "cell_type": "code",
   "execution_count": 420,
   "metadata": {},
   "outputs": [
    {
     "data": {
      "text/plain": [
       "array([[None, None, None, None, None, None, None],\n",
       "       [None, None, None, None, None, None, None],\n",
       "       [None, None, None, None, None, None, None],\n",
       "       [None, None, None, None, None, None, None],\n",
       "       [None, None, None, 'O', None, None, None],\n",
       "       [None, None, None, 'X', None, None, None]], dtype=object)"
      ]
     },
     "execution_count": 420,
     "metadata": {},
     "output_type": "execute_result"
    }
   ],
   "source": [
    "g2.grid"
   ]
  },
  {
   "cell_type": "code",
   "execution_count": 677,
   "metadata": {},
   "outputs": [
    {
     "data": {
      "text/plain": [
       "False"
      ]
     },
     "execution_count": 677,
     "metadata": {},
     "output_type": "execute_result"
    }
   ],
   "source": [
    "None in a and len(a) == 2"
   ]
  },
  {
   "cell_type": "code",
   "execution_count": 19,
   "metadata": {},
   "outputs": [],
   "source": [
    "x = np.array([[None, None, None, None, None, None, None],\n",
    "       [None, None, None, None, None, None, None],\n",
    "       [None, None, None, None, None, None, None],\n",
    "       [None, None, None, 'o', None, None, None],\n",
    "       [None, None, None, 'x', None, None, None],\n",
    "       [None, None, None, 'o', None, None, None]], dtype=object)"
   ]
  },
  {
   "cell_type": "code",
   "execution_count": 26,
   "metadata": {},
   "outputs": [],
   "source": [
    "y = np.arange(16).reshape(4,4)"
   ]
  },
  {
   "cell_type": "code",
   "execution_count": 27,
   "metadata": {},
   "outputs": [],
   "source": [
    "y[y == 2] = 10"
   ]
  },
  {
   "cell_type": "code",
   "execution_count": 29,
   "metadata": {},
   "outputs": [],
   "source": [
    "\n",
    "x[x== None] = '_'"
   ]
  },
  {
   "cell_type": "code",
   "execution_count": 30,
   "metadata": {},
   "outputs": [
    {
     "data": {
      "text/plain": [
       "array([['_', '_', '_', '_', '_', '_', '_'],\n",
       "       ['_', '_', '_', '_', '_', '_', '_'],\n",
       "       ['_', '_', '_', '_', '_', '_', '_'],\n",
       "       ['_', '_', '_', 'o', '_', '_', '_'],\n",
       "       ['_', '_', '_', 'x', '_', '_', '_'],\n",
       "       ['_', '_', '_', 'o', '_', '_', '_']], dtype=object)"
      ]
     },
     "execution_count": 30,
     "metadata": {},
     "output_type": "execute_result"
    }
   ],
   "source": [
    "x"
   ]
  },
  {
   "cell_type": "code",
   "execution_count": 43,
   "metadata": {},
   "outputs": [
    {
     "name": "stdout",
     "output_type": "stream",
     "text": [
      "[[1, 2, 3, 4]]\n"
     ]
    }
   ],
   "source": [
    "\n",
    "line = [1,2,3,4]\n",
    "sub_lines = [line[x - 4: x] for x in range(4, len(line) + 1)]\n",
    "print(sub_lines)"
   ]
  },
  {
   "cell_type": "code",
   "execution_count": 68,
   "metadata": {},
   "outputs": [],
   "source": [
    "x, y = 5, 10"
   ]
  },
  {
   "cell_type": "code",
   "execution_count": 69,
   "metadata": {},
   "outputs": [],
   "source": [
    "[x,y][1] += 20"
   ]
  },
  {
   "cell_type": "code",
   "execution_count": 71,
   "metadata": {},
   "outputs": [],
   "source": [
    "v = [x,y]"
   ]
  },
  {
   "cell_type": "code",
   "execution_count": 72,
   "metadata": {},
   "outputs": [],
   "source": [
    "v[1] += 20"
   ]
  },
  {
   "cell_type": "code",
   "execution_count": 73,
   "metadata": {},
   "outputs": [
    {
     "data": {
      "text/plain": [
       "10"
      ]
     },
     "execution_count": 73,
     "metadata": {},
     "output_type": "execute_result"
    }
   ],
   "source": [
    "v"
   ]
  },
  {
   "cell_type": "code",
   "execution_count": 86,
   "metadata": {},
   "outputs": [
    {
     "ename": "KeyboardInterrupt",
     "evalue": "Interrupted by user",
     "output_type": "error",
     "traceback": [
      "\u001b[0;31m---------------------------------------------------------------------------\u001b[0m",
      "\u001b[0;31mKeyboardInterrupt\u001b[0m                         Traceback (most recent call last)",
      "\u001b[0;32m<ipython-input-86-60c8d79cba4c>\u001b[0m in \u001b[0;36m<module>\u001b[0;34m\u001b[0m\n\u001b[0;32m----> 1\u001b[0;31m \u001b[0mx\u001b[0m \u001b[0;34m=\u001b[0m \u001b[0minput\u001b[0m\u001b[0;34m(\u001b[0m\u001b[0;34m'input anything'\u001b[0m\u001b[0;34m)\u001b[0m\u001b[0;34m\u001b[0m\u001b[0;34m\u001b[0m\u001b[0m\n\u001b[0m",
      "\u001b[0;32m~/opt/anaconda3/lib/python3.8/site-packages/ipykernel/kernelbase.py\u001b[0m in \u001b[0;36mraw_input\u001b[0;34m(self, prompt)\u001b[0m\n\u001b[1;32m    858\u001b[0m                 \u001b[0;34m\"raw_input was called, but this frontend does not support input requests.\"\u001b[0m\u001b[0;34m\u001b[0m\u001b[0;34m\u001b[0m\u001b[0m\n\u001b[1;32m    859\u001b[0m             )\n\u001b[0;32m--> 860\u001b[0;31m         return self._input_request(str(prompt),\n\u001b[0m\u001b[1;32m    861\u001b[0m             \u001b[0mself\u001b[0m\u001b[0;34m.\u001b[0m\u001b[0m_parent_ident\u001b[0m\u001b[0;34m,\u001b[0m\u001b[0;34m\u001b[0m\u001b[0;34m\u001b[0m\u001b[0m\n\u001b[1;32m    862\u001b[0m             \u001b[0mself\u001b[0m\u001b[0;34m.\u001b[0m\u001b[0m_parent_header\u001b[0m\u001b[0;34m,\u001b[0m\u001b[0;34m\u001b[0m\u001b[0;34m\u001b[0m\u001b[0m\n",
      "\u001b[0;32m~/opt/anaconda3/lib/python3.8/site-packages/ipykernel/kernelbase.py\u001b[0m in \u001b[0;36m_input_request\u001b[0;34m(self, prompt, ident, parent, password)\u001b[0m\n\u001b[1;32m    902\u001b[0m             \u001b[0;32mexcept\u001b[0m \u001b[0mKeyboardInterrupt\u001b[0m\u001b[0;34m:\u001b[0m\u001b[0;34m\u001b[0m\u001b[0;34m\u001b[0m\u001b[0m\n\u001b[1;32m    903\u001b[0m                 \u001b[0;31m# re-raise KeyboardInterrupt, to truncate traceback\u001b[0m\u001b[0;34m\u001b[0m\u001b[0;34m\u001b[0m\u001b[0;34m\u001b[0m\u001b[0m\n\u001b[0;32m--> 904\u001b[0;31m                 \u001b[0;32mraise\u001b[0m \u001b[0mKeyboardInterrupt\u001b[0m\u001b[0;34m(\u001b[0m\u001b[0;34m\"Interrupted by user\"\u001b[0m\u001b[0;34m)\u001b[0m \u001b[0;32mfrom\u001b[0m \u001b[0;32mNone\u001b[0m\u001b[0;34m\u001b[0m\u001b[0;34m\u001b[0m\u001b[0m\n\u001b[0m\u001b[1;32m    905\u001b[0m             \u001b[0;32mexcept\u001b[0m \u001b[0mException\u001b[0m \u001b[0;32mas\u001b[0m \u001b[0me\u001b[0m\u001b[0;34m:\u001b[0m\u001b[0;34m\u001b[0m\u001b[0;34m\u001b[0m\u001b[0m\n\u001b[1;32m    906\u001b[0m                 \u001b[0mself\u001b[0m\u001b[0;34m.\u001b[0m\u001b[0mlog\u001b[0m\u001b[0;34m.\u001b[0m\u001b[0mwarning\u001b[0m\u001b[0;34m(\u001b[0m\u001b[0;34m\"Invalid Message:\"\u001b[0m\u001b[0;34m,\u001b[0m \u001b[0mexc_info\u001b[0m\u001b[0;34m=\u001b[0m\u001b[0;32mTrue\u001b[0m\u001b[0;34m)\u001b[0m\u001b[0;34m\u001b[0m\u001b[0;34m\u001b[0m\u001b[0m\n",
      "\u001b[0;31mKeyboardInterrupt\u001b[0m: Interrupted by user"
     ]
    }
   ],
   "source": [
    "x = input('input anything')"
   ]
  },
  {
   "cell_type": "code",
   "execution_count": 32,
   "metadata": {},
   "outputs": [
    {
     "data": {
      "text/plain": [
       "0"
      ]
     },
     "execution_count": 32,
     "metadata": {},
     "output_type": "execute_result"
    }
   ],
   "source": [
    "random.randint(0,6)"
   ]
  },
  {
   "cell_type": "code",
   "execution_count": 76,
   "metadata": {},
   "outputs": [
    {
     "data": {
      "text/plain": [
       "1"
      ]
     },
     "execution_count": 76,
     "metadata": {},
     "output_type": "execute_result"
    }
   ],
   "source": [
    "random.choice(list({1}))"
   ]
  },
  {
   "cell_type": "code",
   "execution_count": 146,
   "metadata": {},
   "outputs": [
    {
     "data": {
      "text/plain": [
       "False"
      ]
     },
     "execution_count": 146,
     "metadata": {},
     "output_type": "execute_result"
    }
   ],
   "source": []
  },
  {
   "cell_type": "code",
   "execution_count": null,
   "metadata": {},
   "outputs": [],
   "source": []
  }
 ],
 "metadata": {
  "kernelspec": {
   "display_name": "Python 3",
   "language": "python",
   "name": "python3"
  },
  "language_info": {
   "codemirror_mode": {
    "name": "ipython",
    "version": 3
   },
   "file_extension": ".py",
   "mimetype": "text/x-python",
   "name": "python",
   "nbconvert_exporter": "python",
   "pygments_lexer": "ipython3",
   "version": "3.8.5"
  }
 },
 "nbformat": 4,
 "nbformat_minor": 4
}
