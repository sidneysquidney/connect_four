{
 "cells": [
  {
   "cell_type": "markdown",
   "metadata": {},
   "source": [
    "- type hints when nothing is returned\n",
    "- class within a class eg self.grid_ref = GridRef(). then when accessed its self.grid_ref.get_lines(grid). seems like theres too many dots. is there a way to make nicer\n",
    "- in player.py i import Piece and Winstate. But they aren't actually used - Winstate is in the type checkng -> and is therefore returned, and Piece is one of the inputs, but that is only implemented in game.py. It comes up with an error, but if i take out type checking it runs fine. Surely better to import as infrequently as possible (no point importing Piece and Winstate in every .py file...)\n",
    "- point of grid_reference is to not create and carry all the functionality for every grid child. but how to referecne in a grid child if it is part of the class. carry a pointer to the original grid in each instance of grid child? - adds another parameter. Or have an variable all by itself grid_ref = GridRef(), and just refer to?"
   ]
  },
  {
   "cell_type": "markdown",
   "metadata": {},
   "source": []
  }
 ],
 "metadata": {
  "interpreter": {
   "hash": "d876307700dfae0ca61d898eaf6b9bc15209382c44e9c839a4debfb7ecb30345"
  },
  "kernelspec": {
   "display_name": "Python 3.8.5 ('miniconda3')",
   "language": "python",
   "name": "python3"
  },
  "language_info": {
   "codemirror_mode": {
    "name": "ipython",
    "version": 3
   },
   "file_extension": ".py",
   "mimetype": "text/x-python",
   "name": "python",
   "nbconvert_exporter": "python",
   "pygments_lexer": "ipython3",
   "version": "3.8.5"
  },
  "orig_nbformat": 4
 },
 "nbformat": 4,
 "nbformat_minor": 2
}
