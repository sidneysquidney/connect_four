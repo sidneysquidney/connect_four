{
 "cells": [
  {
   "cell_type": "markdown",
   "metadata": {},
   "source": [
    "- minimax algo\n",
    "- montecarlo algorithm\n",
    "- reorganise classes\n",
    "- winner search - change to 1,s and 0's then do sum.\n",
    "- take make lines out of class..\n",
    "- abstract as much away as pos with classes - ai class\n",
    "- enums for moves \n",
    "- creating numpy arrays - np.full"
   ]
  },
  {
   "cell_type": "code",
   "execution_count": 18,
   "metadata": {},
   "outputs": [],
   "source": [
    "def count_generator():\n",
    "    print('sid')\n",
    "    while True:\n",
    "        n = yield\n",
    "        print(n)\n",
    "        print('fin')"
   ]
  },
  {
   "cell_type": "code",
   "execution_count": 19,
   "metadata": {},
   "outputs": [],
   "source": [
    "x = count_generator()"
   ]
  },
  {
   "cell_type": "code",
   "execution_count": 20,
   "metadata": {},
   "outputs": [
    {
     "name": "stdout",
     "output_type": "stream",
     "text": [
      "sid\n",
      "None\n",
      "fin\n",
      "4\n",
      "fin\n",
      "None\n",
      "fin\n"
     ]
    }
   ],
   "source": [
    "next(x)\n",
    "next(x)\n",
    "x.send(4)\n",
    "next(x)"
   ]
  },
  {
   "cell_type": "code",
   "execution_count": 26,
   "metadata": {},
   "outputs": [
    {
     "name": "stdout",
     "output_type": "stream",
     "text": [
      "0\n",
      "1\n",
      "4\n",
      "5\n",
      "6\n",
      "7\n",
      "4\n",
      "5\n"
     ]
    }
   ],
   "source": [
    "def generator():\n",
    "    count = 0\n",
    "#     print('begin')\n",
    "    while True:\n",
    "#         print('start')\n",
    "        n = yield count\n",
    "        if n is not None:\n",
    "            count = n\n",
    "#         print(count)\n",
    "        count += 1\n",
    "        \n",
    "#         print('fin', count)\n",
    "        \n",
    "my_generator = generator()\n",
    "print(next(my_generator)) # Output: 0\n",
    "print(next(my_generator)) # Output: 1\n",
    "print(my_generator.send(3)) # Output: 4\n",
    "print(next(my_generator)) # Output: 5\n",
    "print(next(my_generator)) # Output: 6\n",
    "print(next(my_generator)) # Output: 7\n",
    "print(my_generator.send(3)) # Output: 4\n",
    "print(next(my_generator)) # output 5"
   ]
  },
  {
   "cell_type": "code",
   "execution_count": 1,
   "metadata": {},
   "outputs": [],
   "source": [
    "def fibon(n):\n",
    "    a = b = 1\n",
    "    for i in range(n):\n",
    "        yield a\n",
    "        a, b = b, a + b"
   ]
  },
  {
   "cell_type": "code",
   "execution_count": 5,
   "metadata": {},
   "outputs": [],
   "source": [
    "v = fibon(10)"
   ]
  },
  {
   "cell_type": "code",
   "execution_count": 6,
   "metadata": {},
   "outputs": [
    {
     "name": "stdout",
     "output_type": "stream",
     "text": [
      "1\n",
      "1\n",
      "2\n",
      "3\n",
      "5\n",
      "8\n",
      "13\n",
      "21\n",
      "34\n",
      "55\n"
     ]
    }
   ],
   "source": [
    "for x in v:\n",
    "    print(x)"
   ]
  },
  {
   "cell_type": "code",
   "execution_count": null,
   "metadata": {},
   "outputs": [],
   "source": []
  }
 ],
 "metadata": {
  "kernelspec": {
   "display_name": "Python 3",
   "language": "python",
   "name": "python3"
  },
  "language_info": {
   "codemirror_mode": {
    "name": "ipython",
    "version": 3
   },
   "file_extension": ".py",
   "mimetype": "text/x-python",
   "name": "python",
   "nbconvert_exporter": "python",
   "pygments_lexer": "ipython3",
   "version": "3.8.5"
  }
 },
 "nbformat": 4,
 "nbformat_minor": 4
}
