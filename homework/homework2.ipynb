{
 "cells": [
  {
   "cell_type": "markdown",
   "metadata": {},
   "source": [
    "Jeremy\n",
    "\n",
    "- reorganized classes and structure. Going to try and sort out get_lines functions and implement minimax algo now\n",
    "- what is meant by get lines needs formatting\n",
    "- numpy technique seems to be slower than original get winner search (left in but commented out)\n",
    "- thinking of score function to use in minimax algorithm. Also structure - can make a tree structure out of list and dictionary\n"
   ]
  },
  {
   "cell_type": "markdown",
   "metadata": {},
   "source": [
    "To Do\n",
    "\n",
    "- minimax algo\n",
    "- montecarlo algorithm\n",
    "- set up folder structure with tests, .gitignore"
   ]
  },
  {
   "cell_type": "markdown",
   "metadata": {},
   "source": [
    "MinMax\n",
    "\n",
    "- highest possible minimum after opponenets turn so for connect 4 its 7*7 variations and which of the first 7 has the highest minimum score for player (presumes opponent makes best possible move)\n",
    "- pruning - doesn't search unecessary tree branches \n",
    "- order options for most likely first (helps for pruning technique)\n",
    "https://www.youtube.com/watch?v=l-hh51ncgDI\n",
    "\n",
    "score algorithm\n",
    "\n",
    "- whole board/last 2 moves\n",
    "- all pieces/all lines \n",
    "- make a win/lose\n",
    "- make a win possible"
   ]
  }
 ],
 "metadata": {
  "kernelspec": {
   "display_name": "Python 3",
   "language": "python",
   "name": "python3"
  },
  "language_info": {
   "codemirror_mode": {
    "name": "ipython",
    "version": 3
   },
   "file_extension": ".py",
   "mimetype": "text/x-python",
   "name": "python",
   "nbconvert_exporter": "python",
   "pygments_lexer": "ipython3",
   "version": "3.8.5"
  }
 },
 "nbformat": 4,
 "nbformat_minor": 4
}
